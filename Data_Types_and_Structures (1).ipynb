{
  "cells": [
    {
      "cell_type": "markdown",
      "metadata": {
        "id": "bEfE5Mieqtg1"
      },
      "source": [
        "Que-1 What are data structures, and why are they important ?\n",
        "\n",
        "Ans- A data structure is a specialized format for organizing, processing, retrieving, and storing data. By structuring data appropriately, programs can access and modify information efficiently, which is crucial for performance and scalability. Common data structures include arrays, linked lists, stacks, queues, trees, graphs, hash tables, and heaps.\n",
        "\n",
        "🔹 Why Are Data Structures Important?\n",
        "1. Efficient Data Management: Choosing the right data structure can significantly enhance the performance of a program by optimizing data access and modification operations.\n",
        "\n",
        "\n",
        "2.  Algorithm Optimization : Data structures are integral to algorithm design, affecting both time and space complexity. Efficient data structures enable the development of algorithms that can process data more quickly and with less memory usage.\n",
        "\n",
        "3. Problem Solving : Understanding various data structures equips developers with the tools to tackle complex problems effectively, as different structures are suited to different types of tasks.\n",
        "\n",
        "\n",
        "4. Software Development : In software engineering, data structures are essential for organizing code and managing data flow, leading to more maintainable and scalable applications.\n",
        "\n",
        "5. Interview Preparation : Proficiency in data structures is often a key focus in technical interviews, as it demonstrates a candidate's ability to write efficient and optimized code.\n"
      ]
    },
    {
      "cell_type": "markdown",
      "metadata": {
        "id": "No_CfVkSqtWJ"
      },
      "source": [
        "Que-2  Explain the difference between mutable and immutable data types with\n",
        " examples?\n",
        "\n",
        " Ans-**Mutable Objects :**\n",
        "* **Definition** : Objects that can be Changed after they've been created.\n",
        "* **Memory** : Generally more efficient in memory as they don't require  \n",
        "  creating new\n",
        "  objects for changes.\n",
        "* **Modification :** Modifying a mutable object doesn't change its memory\n",
        "  address; the changes are made in place.\n",
        "* **Examples :** Lists, dictionaries, and sets."
      ]
    },
    {
      "cell_type": "code",
      "execution_count": 1,
      "metadata": {
        "id": "LnoBrs0et18q"
      },
      "outputs": [],
      "source": [
        "#List\n",
        "my_list = [1, 2, 3]\n",
        "my_list.append(4)  # my_list becomes [1, 2, 3, 4]"
      ]
    },
    {
      "cell_type": "code",
      "execution_count": 2,
      "metadata": {
        "colab": {
          "base_uri": "https://localhost:8080/"
        },
        "id": "-8lX5Qi6uspP",
        "outputId": "e3a9a5c3-5af9-4be5-ea98-b3869e2335cb"
      },
      "outputs": [
        {
          "output_type": "stream",
          "name": "stdout",
          "text": [
            "[1, 2, 3, 4]\n"
          ]
        }
      ],
      "source": [
        "print(my_list)"
      ]
    },
    {
      "cell_type": "code",
      "execution_count": 3,
      "metadata": {
        "id": "aBF1zDIku78M"
      },
      "outputs": [],
      "source": [
        "#Dictionary:\n",
        "my_dict = {'a': 1}\n",
        "my_dict['b'] = 2  # my_dict becomes {'a': 1, 'b': 2}"
      ]
    },
    {
      "cell_type": "code",
      "execution_count": 4,
      "metadata": {
        "colab": {
          "base_uri": "https://localhost:8080/"
        },
        "id": "VVQjLmrMvGCn",
        "outputId": "db1cac94-e7e4-4045-8cf5-eb11e6e64bdd"
      },
      "outputs": [
        {
          "output_type": "stream",
          "name": "stdout",
          "text": [
            "{'a': 1, 'b': 2}\n"
          ]
        }
      ],
      "source": [
        "print(my_dict)"
      ]
    },
    {
      "cell_type": "markdown",
      "metadata": {
        "id": "DdVN_8HhqtSk"
      },
      "source": [
        "**Immutable Objects :**\n",
        "* **Definition :** Objects whose value cannot be changed once they are created.\n",
        "* **Memory :** May use more memory as new objects are created when  \n",
        "  modifications are\n",
        "  needed.\n",
        "* **Modification :** Modifying an immutable object creates a new object with  \n",
        "  the modified value, and any references to the original object remain unchanged.\n",
        "*Examples : **bold text** Integers, floats, strings, tuples, and frozensets.  \n",
        "\n"
      ]
    },
    {
      "cell_type": "code",
      "execution_count": 5,
      "metadata": {
        "colab": {
          "base_uri": "https://localhost:8080/",
          "height": 193
        },
        "id": "UTokycChvUeh",
        "outputId": "43bedfef-9c70-4447-94bd-65383e54fa7f"
      },
      "outputs": [
        {
          "output_type": "error",
          "ename": "TypeError",
          "evalue": "'str' object does not support item assignment",
          "traceback": [
            "\u001b[0;31m---------------------------------------------------------------------------\u001b[0m",
            "\u001b[0;31mTypeError\u001b[0m                                 Traceback (most recent call last)",
            "\u001b[0;32m/tmp/ipython-input-3192027400.py\u001b[0m in \u001b[0;36m<cell line: 0>\u001b[0;34m()\u001b[0m\n\u001b[1;32m      1\u001b[0m \u001b[0;31m#String:\u001b[0m\u001b[0;34m\u001b[0m\u001b[0;34m\u001b[0m\u001b[0m\n\u001b[1;32m      2\u001b[0m \u001b[0ms\u001b[0m \u001b[0;34m=\u001b[0m \u001b[0;34m\"hello\"\u001b[0m\u001b[0;34m\u001b[0m\u001b[0;34m\u001b[0m\u001b[0m\n\u001b[0;32m----> 3\u001b[0;31m \u001b[0ms\u001b[0m\u001b[0;34m[\u001b[0m\u001b[0;36m0\u001b[0m\u001b[0;34m]\u001b[0m \u001b[0;34m=\u001b[0m \u001b[0;34m\"H\"\u001b[0m  \u001b[0;31m# Raises TypeError\u001b[0m\u001b[0;34m\u001b[0m\u001b[0;34m\u001b[0m\u001b[0m\n\u001b[0m\u001b[1;32m      4\u001b[0m \u001b[0ms\u001b[0m \u001b[0;34m=\u001b[0m \u001b[0;34m\"Hello\"\u001b[0m  \u001b[0;31m# Creates a new string object\u001b[0m\u001b[0;34m\u001b[0m\u001b[0;34m\u001b[0m\u001b[0m\n",
            "\u001b[0;31mTypeError\u001b[0m: 'str' object does not support item assignment"
          ]
        }
      ],
      "source": [
        "#String:\n",
        "s = \"hello\"\n",
        "s[0] = \"H\"  # Raises TypeError\n",
        "s = \"Hello\"  # Creates a new string object\n"
      ]
    },
    {
      "cell_type": "code",
      "execution_count": 6,
      "metadata": {
        "id": "TzYgNig_vv-i",
        "colab": {
          "base_uri": "https://localhost:8080/"
        },
        "outputId": "6af39030-7052-4e3f-e957-b74b0efc882b"
      },
      "outputs": [
        {
          "output_type": "stream",
          "name": "stdout",
          "text": [
            "(1, 2, 'hello', True)\n"
          ]
        }
      ],
      "source": [
        "#Tuple\n",
        "my_tuple = (1, 2, \"hello\", True) #firstly create a tuple.\n",
        "print(my_tuple)"
      ]
    },
    {
      "cell_type": "markdown",
      "metadata": {
        "id": "WkfQUrNiqtPk"
      },
      "source": [
        "Que-3 What are the main differences between lists and tuples in Python ?\n",
        "\n",
        "Ans- In Python, both lists and tuples are used to store collections of items. However, they have distinct characteristics that make them suitable for different scenarios.\n",
        "\n",
        "**List** :-\n",
        "\n",
        "**Mutability :**\tMutable (can be changed)\n",
        "\n",
        "**Syntax :**\tDefined using square brackets []\n",
        "\n",
        "**Methods :** Available\tExtensive (e.g., append(), remove())\n",
        "\n",
        "**Performance :**\tSlower due to dynamic resizing\n",
        "\n",
        "**Memory Usage :**\tConsumes more memory\n",
        "\n",
        "**Use as Dictionary :** Key\tNot allowed (unhashable)\n",
        "\n",
        "**Use Cases** :\tSuitable for dynamic data\n",
        "\n",
        "**Syntax** : my_list = [1, 2, 3]\n",
        "\n",
        "\n",
        "\n",
        "**Tuple** :-\n",
        "\n",
        "\n",
        "**Mutability :**\tImmutable (cannot be changed)\n",
        "**Syntax :**\tDefined using parentheses ()\n",
        "**Methods :** Limited (e.g., count(), index())\n",
        "\n",
        "**Performance :**\tFaster due to fixed size\n",
        "\n",
        "**Memory Usage :**\tMore memory-efficient\n",
        "\n",
        "**Use as Dictionary :**Allowed if elements are immutable\n",
        "\n",
        "**Use Cases** :\tSuitable for fixed data\n",
        "\n",
        "**Syntax** : my_tuple = (1, 2, 3)​\n",
        "\n",
        "\n",
        "\n",
        "\n",
        "🔹 When to Use Lists vs. Tuples\n",
        "\n",
        "*   Use Lists :\n",
        " *   When you need a collection of items that may change during program execution.\n",
        " *  For operations that require frequent addition or removal of elements.\n",
        "\n",
        "*   Use Lists :\n",
        "\n",
        " *  When you need a fixed collection of items that should not change.\n",
        " * For data that should remain constant throughout the program.\n",
        " * When you need to use the collection as a key in a dictionary.\n",
        "\n"
      ]
    },
    {
      "cell_type": "markdown",
      "metadata": {
        "id": "vIIYvTwgqtM4"
      },
      "source": [
        "Que-4\n",
        "\n",
        "Ans- Dictionaries are used to store data values in key:value pairs. A dictionary is a collection which is ordered*, changeable and do not allow duplicates. As of Python version 3.7, dictionaries are ordered. In Python 3.6 and earlier, dictionaries are unordered.\n",
        "\n",
        "\n",
        "🔹 How Dictionaries Store Data Internally\n",
        "1.Hashing the Key : When a key-value pair is added to a dictionary, Python computes a hash value for the key using a built-in hash function. This hash value is an integer that represents the key and is used to determine where to store the corresponding value in memory.​\n",
        "\n",
        "2.Mapping to Buckets : The hash value is then mapped to a specific index in an internal array (often referred to as \"buckets\"). This mapping is typically done using the modulo operation: index = hash(key) % number_of_buckets. Each bucket can store a key-value pair.​\n",
        "tenthousandmeters.com\n",
        "\n",
        "3.Handling Collisions : Sometimes, different keys can produce the same hash value, leading to a collision. Python handles these collisions using a method called open addressing, where it searches for the next available bucket in the array to store the new key-value pair.​\n",
        "\n",
        "4.Resizing the Hash Table : As more items are added and the dictionary becomes full, Python automatically resizes the internal array to maintain efficient operations. This process involves creating a new, larger array and rehashing all existing keys to determine their new positions.​\n",
        "\n"
      ]
    },
    {
      "cell_type": "code",
      "execution_count": 7,
      "metadata": {
        "id": "uxWmxV-_51xD",
        "colab": {
          "base_uri": "https://localhost:8080/"
        },
        "outputId": "283f5041-c051-4c03-eaf1-17dbd466efd5"
      },
      "outputs": [
        {
          "output_type": "stream",
          "name": "stdout",
          "text": [
            "2\n"
          ]
        }
      ],
      "source": [
        "# Creating a dictionary\n",
        "\n",
        "my_dict = {'apple': 1, 'banana': 2, 'cherry': 3}\n",
        "\n",
        "# Accessing a value\n",
        "print(my_dict['banana'])\n"
      ]
    },
    {
      "cell_type": "markdown",
      "metadata": {
        "id": "B1oplQGBqtKD"
      },
      "source": [
        "Que- 5 Why might you use a set instead of a list in Python ?\n",
        "\n",
        "Ans- A set in Python is an unordered collection of unique elements, while a list is an ordered collection that allows duplicate elements. Sets offer advantages over lists in specific scenarios:\n",
        "\n",
        "Ensuring uniqueness:\n",
        "If the goal is to store only unique items, a set is more efficient. Adding a duplicate element to a set has no effect, while a list would allow it.\n",
        "\n",
        "Fast membership testing:\n",
        "Checking if an element exists in a set is significantly faster than in a list, especially for large collections. Sets use a hash table for storage, enabling near-constant time lookups, while lists require linear time.\n",
        "\n",
        "Set operations:\n",
        "Sets support mathematical set operations like union, intersection, and difference, which are not directly available for lists.\n",
        "\n",
        "Removing duplicates:\n",
        "Converting a list to a set is a quick way to remove duplicate elements.\n",
        "\n",
        "Memory efficiency:\n",
        "Sets can be more memory-efficient than lists when storing a large number of unique elements, as they avoid storing duplicates.\n",
        "\n",
        "**However, lists are more appropriate when:**\n",
        "\n",
        "Order matters:\n",
        "If the order of elements is significant, a list should be used as sets are unordered.\n",
        "\n",
        "Duplicates are allowed:\n",
        "If duplicate elements are acceptable or required, a list is the natural choice.\n",
        "\n",
        "Frequent modifications:\n",
        "Lists are more flexible for adding, inserting, or removing elements at specific positions.\n",
        "\n",
        "In essence, the choice between a set and a list depends on the specific requirements of the task. Sets excel when uniqueness, fast lookups, and set operations are crucial, while lists are better suited for ordered collections with potential duplicates and frequent modifications."
      ]
    },
    {
      "cell_type": "markdown",
      "metadata": {
        "id": "I5TMj8PFqtHU"
      },
      "source": [
        "Que-6  What is a string in Python, and how is it different from a list3\n",
        "\n",
        "Ans- A string is a sequence of characters enclosed in quotes.\n",
        "\n",
        "You can define a string using:"
      ]
    },
    {
      "cell_type": "code",
      "source": [
        "text = \"Hello, world!\"  # double quotes\n",
        "name = 'Alice'          # single quotes\n"
      ],
      "metadata": {
        "id": "ppA9Vcpm3BV9"
      },
      "execution_count": 8,
      "outputs": []
    },
    {
      "cell_type": "markdown",
      "source": [
        "| Feature              | String                                   | List                          |\n",
        "| -------------------- | ---------------------------------------- | ----------------------------- |\n",
        "| Type of Elements     | Only **characters**                      | Can store **any data type**   |\n",
        "| Mutability           | **Immutable** (cannot be changed)        | **Mutable** (can be modified) |\n",
        "| Syntax               | Enclosed in quotes                       | Enclosed in square brackets   |\n",
        "| Example              | `\"hello\"`                                | `['h', 'e', 'l', 'l', 'o']`   |\n",
        "| Element Modification | ❌ Not allowed (`s[0] = 'H'` gives error) | ✅ Allowed (`l[0] = 'H'`)      |\n"
      ],
      "metadata": {
        "id": "C0iQ4rG23CSS"
      }
    },
    {
      "cell_type": "markdown",
      "metadata": {
        "id": "vJuNM7jSqtEu"
      },
      "source": [
        "Que-7 How do tuples ensure data integrity in Python ?\n",
        "\n",
        "Ans- Tuples in Python ensure data integrity primarily through their immutability. This characteristic means that once a tuple is created, its elements cannot be changed, added, or removed. This inherent immutability provides several mechanisms for maintaining data integrity:\n",
        "\n",
        "**Prevention of Accidental Modification:**\n",
        "\n",
        "Since tuple elements cannot be altered after creation, there is no risk of accidental changes to the data they hold. This is particularly valuable when storing fixed configurations, constants, or data that should remain consistent throughout the program's execution.\n",
        "\n",
        "**Suitability for Dictionary Keys and Set Elements:**\n",
        "\n",
        "Because tuples are immutable and therefore hashable, they can be used as keys in dictionaries and elements in sets. This enables efficient lookup and storage while relying on the immutability to ensure the integrity of the keys/elements.\n",
        "\n",
        "**Predictable Behavior:**\n",
        "\n",
        "The unchangeable nature of tuples leads to predictable behavior. When a tuple is passed to a function or shared among different parts of a program, there is no concern that its contents might be unexpectedly modified by another part of the code. This enhances code reliability and simplifies debugging.\n",
        "\n",
        "**Implicit Data Validation:**\n",
        "\n",
        "By choosing a tuple for data that should not change, a developer implicitly communicates that the data is intended to be constant. Any attempt to modify a tuple will result in an error, serving as a clear indicator of an unintended operation.\n"
      ]
    },
    {
      "cell_type": "markdown",
      "source": [
        "Que-8 What is a hash table, and how does it relate to dictionaries in Python ?\n",
        "\n",
        "Ans- A hash table is a data structure that stores key-value pairs, allowing for efficient insertion, deletion, and retrieval of data. It works by using a hash function to map keys to an index (or \"bucket\") within an underlying array. This index indicates where the corresponding value is stored. When a key is provided for retrieval, the hash function is applied to it, and the resulting index directly points to the location of the associated value, enabling very fast access.\n",
        "\n",
        "**How it relates to dictionaries in Python:**\n",
        "\n",
        "Python's built-in dict (dictionary) data type is implemented using hash tables. When you create a dictionary in Python and add key-value pairs, Python internally uses a hash function to:\n",
        "\n",
        "**Hash the key:** The key you provide is passed through a hash function, which computes a unique integer hash value for that key.\n",
        "\n",
        "**Map to an index:** This hash value is then used to determine an index within an internal array (the hash table's underlying storage).\n",
        "\n",
        "**Store the value:** The key-value pair is then stored at that calculated index.\n",
        "\n",
        "This underlying hash table implementation is why Python dictionaries offer average-case O(1) time complexity for operations like insertion, deletion, and lookup. This means that, on average, these operations take a constant amount of time, regardless of the number of items in the dictionary, making them highly efficient for managing collections of data that require quick access by a unique identifier."
      ],
      "metadata": {
        "id": "LoPJowpN7oPP"
      }
    },
    {
      "cell_type": "markdown",
      "source": [
        "Que-9 Can lists contain different data types in Python ?\n",
        "\n",
        "Ans- Yes, lists in Python can contain different data types. This is a key feature of Python lists, making them highly versatile.\n",
        "For example, a single Python list can hold integers, strings, floats, booleans, other lists (creating nested lists), dictionaries, tuples, and even functions or objects, all within the same list.\n",
        "\n",
        "Here is an example demonstrating a list with mixed data types:\n"
      ],
      "metadata": {
        "id": "cVH591IUC6YG"
      }
    },
    {
      "cell_type": "code",
      "source": [
        "my_mixed_list = [1, \"hello\", 3.14, True, [5, 6], {\"key\": \"value\"}]"
      ],
      "metadata": {
        "id": "97Qtdlm9DSxt"
      },
      "execution_count": 58,
      "outputs": []
    },
    {
      "cell_type": "markdown",
      "source": [
        "Que-10 Explain why strings are immutable in Python ?\n",
        "\n",
        "Ans- Strings are immutable in Python, meaning their content cannot be changed after they are created. This design choice offers several advantages:\n",
        "\n",
        "**Security and Predictability:**\n",
        "\n",
        "Immutability prevents accidental or unintended modifications to string data, which is crucial when strings store sensitive information like passwords or cryptographic keys. It ensures that once a string is created, its value remains consistent throughout its lifetime, making code more predictable and less prone to bugs.\n",
        "\n",
        "**Thread Safety:**\n",
        "\n",
        "In multi-threaded environments, immutable objects are inherently thread-safe because multiple threads can access them concurrently without the risk of data corruption due to modifications. This simplifies concurrent programming.\n",
        "\n",
        "**Hashing and Dictionary Keys:**\n",
        "\n",
        "Immutable objects can be reliably used as keys in dictionaries and elements in sets because their hash value, which is derived from their content, remains constant. If strings were mutable, their hash values could change, leading to issues with dictionary lookups and set operations.\n",
        "\n",
        "**Memory Efficiency (Interning):**\n",
        "\n",
        "Python can optimize memory usage by \"interning\" short, commonly used strings. This means that if multiple variables are assigned the same string literal, they can all point to the same object in memory, reducing memory consumption. Immutability is essential for this optimization to work correctly.\n",
        "\n",
        "**Simplified Design:**\n",
        "\n",
        "Immutability simplifies the design of string operations. Instead of modifying an existing string, operations like concatenation or replace() create a new string object with the desired changes. This avoids complex in-place modification logic and potential side effects.\n"
      ],
      "metadata": {
        "id": "6S1248q7ESir"
      }
    },
    {
      "cell_type": "markdown",
      "source": [
        "Que-11 hat advantages do dictionaries offer over lists for certain tasks3\n",
        "\n",
        "\n",
        "Ans- Dictionaries offer significant advantages over lists for tasks that involve data retrieval, organization, and complex data mapping. While a list is an ordered, indexed collection, a dictionary is a collection of unique, key-value pairs that are not primarily designed for ordering.\n",
        "\n",
        "Here are the specific advantages dictionaries offer over lists:\n",
        "\n",
        "**Speed and efficiency for data retrieval**\n",
        "\n",
        "Dictionaries are optimized for fast lookups, insertions, and deletions when working with large datasets.\n",
        "\n",
        "**Average time complexity:** A dictionary's average time complexity for searching for a value by its key is constant, or \\(O(1)\\). This is because dictionaries are implemented as hash tables, which use a hash function to compute an object's memory location, allowing it to be found in a single step.\n",
        "\n",
        "**Performance comparison:** Searching for an element by value in a list is much slower, with an average time complexity of \\(O(n)\\), where \\(n\\) is the number of elements. This is because a linear search must iterate through every item until a match is found. For example, finding an item in a list of 1 million elements is vastly slower than finding a value in a dictionary with the same number of key-value pairs.\n",
        "\n",
        "**Improved readability and code organization**\n",
        "\n",
        "Dictionaries use descriptive keys, which makes code more readable and easier to maintain compared to relying on numeric indices.\n",
        "\n",
        "**Descriptive access:**Instead of accessing data via an index like user_data[0], you can use a descriptive key like user_data['username'], which makes the code's purpose immediately clear.\n",
        "\n",
        "**Clear data mapping:** The key-value structure provides a clear logical association between data points. This is ideal for managing complex, structured data like configuration settings or records where each item has multiple attributes.\n",
        "\n",
        "**Flexible and dynamic key management**\n",
        "\n",
        "Lists are indexed by consecutive integers, but dictionaries use custom keys that provide more flexibility.\n",
        "\n",
        "**Custom keys:** A dictionary's keys can be of any immutable data type, such as a string, number, or tuple. This allows you to create more expressive data structures. For instance, you could use a person's name as a key to retrieve their information.\n",
        "\n",
        "**No wasted space:** Unlike a list, which allocates space for a continuous range of integer indices (e.g., \\(0,1,2,...\\)), a dictionary only stores entries for keys that exist. If you have non-consecutive or sparse keys, a dictionary avoids wasting space.\n",
        "\n",
        "**Practical use cases for dictionaries**\n",
        "\n",
        "**Caching:** Storing previously computed results in a dictionary allows you to quickly retrieve them later without re-running an expensive function.\n",
        "\n",
        "**Databases and indexing:** Dictionaries are useful for mapping unique identifiers to records, similar to how a database index works.\n",
        "\n",
        "**Counting and frequency analysis:** Since dictionary keys are unique, they are perfect for building a frequency table where you count occurrences of items. For example, a key can be a word, and its value can be the number of times it appears.\n",
        "\n",
        "**Configuration settings:** Storing application settings in a dictionary provides a human-readable and easily modifiable structure."
      ],
      "metadata": {
        "id": "wHKgBvJIFyLd"
      }
    },
    {
      "cell_type": "markdown",
      "source": [
        "Que- 12 Describe a scenario where using a tuple would be preferable over a list ?\n",
        "\n",
        "Ans- A tuple would be preferable over a list in scenarios where data immutability and integrity are crucial, or when representing a fixed collection of related but potentially heterogeneous items.\n",
        "\n",
        "Scenario: Representing geographic coordinates.\n",
        "\n",
        "Explanation:\n",
        "\n",
        "Geographic coordinates, such as latitude and longitude, represent a fixed pair of values that define a specific location. These values should not change during the program's execution once assigned to a particular point. Using a tuple, like (latitude, longitude), ensures that these coordinates cannot be accidentally modified, preserving the accuracy of the location data.\n",
        "\n",
        "**Why a tuple is preferred here:**\n",
        "\n",
        "**Immutability:**\n",
        "\n",
        "Tuples are immutable, meaning their elements cannot be changed after creation. This prevents accidental modification of critical data like coordinates, which should remain constant.\n",
        "\n",
        "**Data Integrity:**\n",
        "\n",
        "The immutability of tuples helps maintain data integrity by ensuring that the defined location remains consistent throughout the program.\n",
        "\n",
        "**Fixed Structure:**\n",
        "\n",
        "Coordinates inherently have a fixed number of elements (latitude and longitude). Tuples are well-suited for representing such fixed-size collections.\n",
        "\n",
        "**Heterogeneous Data:**\n",
        "\n",
        "While both elements are numerical, the concept of latitude and longitude are distinct and form a meaningful pair, which tuples can effectively represent.\n",
        "\n",
        "In contrast, a list would allow for the modification of individual coordinate values (e.g., coordinates[0] = new_latitude), which could lead to unintended data corruption if not carefully managed."
      ],
      "metadata": {
        "id": "ax1AqxT2LlD2"
      }
    },
    {
      "cell_type": "markdown",
      "source": [
        "Que- 13 How do sets handle duplicate values in Python ?\n",
        "\n",
        "Ans- Python sets, by their fundamental definition, are unordered collections of unique elements. This means that sets inherently do not allow duplicate values.\n",
        "\n",
        "When attempting to add a duplicate value to a set, the set simply ignores the addition, and the element is not added again. The set's contents remain unchanged regarding that specific element.\n",
        "\n",
        "For example:\n"
      ],
      "metadata": {
        "id": "sIf2c2jSP3Fc"
      }
    },
    {
      "cell_type": "code",
      "source": [
        "my_set = {1, 2, 3}\n",
        "my_set.add(2)  # Attempting to add 2 again\n",
        "print(my_set)"
      ],
      "metadata": {
        "colab": {
          "base_uri": "https://localhost:8080/"
        },
        "id": "xrdUq4g5QP36",
        "outputId": "103963c3-bc89-42bf-b3c6-c7ce45d14c8f"
      },
      "execution_count": 10,
      "outputs": [
        {
          "output_type": "stream",
          "name": "stdout",
          "text": [
            "{1, 2, 3}\n"
          ]
        }
      ]
    },
    {
      "cell_type": "markdown",
      "source": [
        "As shown, adding 2 a second time has no effect, as 2 is already present in the set. This characteristic makes sets particularly useful for tasks such as removing duplicates from a list or efficiently checking for the presence of an element."
      ],
      "metadata": {
        "id": "aM-G7fiZQU1D"
      }
    },
    {
      "cell_type": "markdown",
      "source": [
        "Que- 14 How does the “in” keyword work differently for lists and dictionaries ?\n",
        "\n",
        "Ans- Here’s how the in operator works differently for lists versus dictionaries in Python:\n",
        "\n",
        "**1.Lists: in Checks for Presence of a Value (Linear Scan)**\n",
        "\n",
        "For a list (or other sequence types like tuples, strings), x in my_list tests if the value x is present among its elements. Python performs a linear search—checking each element one by one—so the time complexity is O(n)\n",
        "\n",
        "**2.Dictionaries: in Checks for Presence of a Key (Constant Time, Usually)**\n",
        "\n",
        "When using x in my_dict, Python checks whether x is a key in the dictionary, not a value\n",
        "\n",
        "Under the hood, dictionaries are implemented as hash tables, allowing key lookups to be extremely fast—typically O(1) average time. In rare worst-case scenarios, it may degrade to O(n), but these are uncommon\n",
        "\n",
        "**3.Checking for Presence of Values or Items in Dictionaries**\n",
        "\n",
        "*  Use x in my_dict.values() to test if a value exists among the dictionary’s values. This is again a linear search with O(n) complexity\n",
        "\n",
        "*  Use x in my_dict.items() to test for the presence of a specific (key, value) pair. This has a slightly higher cost than checking values() but remains linear (or “set-like” plus overhead)\n",
        "\n",
        "\n",
        "\n"
      ],
      "metadata": {
        "id": "hOSgH0cTQWnD"
      }
    },
    {
      "cell_type": "code",
      "source": [
        "# List example:\n",
        "nums = [10, 20, 30]\n",
        "print(20 in nums)      # True\n",
        "print(40 in nums)      # False\n"
      ],
      "metadata": {
        "colab": {
          "base_uri": "https://localhost:8080/"
        },
        "id": "FIfxPMTwj_sU",
        "outputId": "b2e1c389-fb1c-49b9-fc00-83661910af5a"
      },
      "execution_count": 11,
      "outputs": [
        {
          "output_type": "stream",
          "name": "stdout",
          "text": [
            "True\n",
            "False\n"
          ]
        }
      ]
    },
    {
      "cell_type": "code",
      "source": [
        "# Dictionary example:\n",
        "d = {'a': 1, 'b': 2}\n",
        "print('a' in d)        # True (checks key presence)\n",
        "print(1 in d)          # False (values are not checked by default)"
      ],
      "metadata": {
        "colab": {
          "base_uri": "https://localhost:8080/"
        },
        "id": "Koz2iQyNkdbp",
        "outputId": "b39c9764-bffb-4ddd-bb2b-26961c19c9a1"
      },
      "execution_count": 12,
      "outputs": [
        {
          "output_type": "stream",
          "name": "stdout",
          "text": [
            "True\n",
            "False\n"
          ]
        }
      ]
    },
    {
      "cell_type": "code",
      "source": [
        "# Checking values explicitly:\n",
        "print(1 in d.values())      # True\n",
        "print(('a', 1) in d.items())  # True"
      ],
      "metadata": {
        "colab": {
          "base_uri": "https://localhost:8080/"
        },
        "id": "tj8j4wFQkk9q",
        "outputId": "0e3daea9-f33f-4e31-bf16-1f292a012d5d"
      },
      "execution_count": 13,
      "outputs": [
        {
          "output_type": "stream",
          "name": "stdout",
          "text": [
            "True\n",
            "True\n"
          ]
        }
      ]
    },
    {
      "cell_type": "markdown",
      "source": [
        "Que-15 Can you modify the elements of a tuple? Explain why or why not ?\n",
        "\n",
        "Ans- **Why Can't You Modify a Tuple?**\n",
        "\n",
        "*  A tuple is a fixed-size, ordered collection, and once it's created, neither its size nor its content can be changed. Attempting direct assignment (like t[0] = value) causes a TypeError: “‘tuple’ object does not support item assignment”\n",
        "\n",
        "* The immutability ensures that:\n",
        " * Tuples remain hashable (so they can be used as dictionary keys or added to sets).\n",
        " * They offer consistent behavior and performance guarantees, since their contents can't change unexpectedly.\n",
        "\n",
        "**What About += or Concatenation?**\n",
        "\n",
        "You might see code like t += (new_element,), which appears to modify the tuple—but it actually creates a new tuple and reassigns it to the variable:\n"
      ],
      "metadata": {
        "id": "a41XEx_-4QLp"
      }
    },
    {
      "cell_type": "code",
      "source": [
        "t = (1, 2, 3)\n",
        "print(id(t))  # e.g., 140153476307856\n",
        "t += (4, 5)\n",
        "print(id(t))  # Different ID — a new object\n"
      ],
      "metadata": {
        "colab": {
          "base_uri": "https://localhost:8080/"
        },
        "id": "_KYOkGzJ6WsZ",
        "outputId": "6522c073-4db3-4543-9272-2f1a91ab7048"
      },
      "execution_count": 14,
      "outputs": [
        {
          "output_type": "stream",
          "name": "stdout",
          "text": [
            "138223369168128\n",
            "138223370246944\n"
          ]
        }
      ]
    },
    {
      "cell_type": "markdown",
      "source": [
        "This is because tuples lack the __iadd__ (in-place add) method, so += defaults to __add__, resulting in a new tuple."
      ],
      "metadata": {
        "id": "g0nnqnmy6mX6"
      }
    },
    {
      "cell_type": "markdown",
      "source": [
        "**How Can You “Modify” a Tuple? Workarounds**\n",
        "\n",
        "Even though you can't change a tuple itself, you can create a modified version using one of these approaches:\n",
        "\n",
        "**1.Convert to a List and Back**"
      ],
      "metadata": {
        "id": "vO2OnWHq6sYG"
      }
    },
    {
      "cell_type": "code",
      "source": [
        "t = ('apple', 'banana', 'cherry')\n",
        "lst = list(t)\n",
        "lst[1] = 'kiwi'\n",
        "t = tuple(lst)\n",
        "print(t)  # ('apple', 'kiwi', 'cherry')\n"
      ],
      "metadata": {
        "colab": {
          "base_uri": "https://localhost:8080/"
        },
        "id": "tIYEU9hU6obO",
        "outputId": "375d2eef-a636-4b0c-de94-d054da0e8816"
      },
      "execution_count": 15,
      "outputs": [
        {
          "output_type": "stream",
          "name": "stdout",
          "text": [
            "('apple', 'kiwi', 'cherry')\n"
          ]
        }
      ]
    },
    {
      "cell_type": "markdown",
      "source": [
        "**2. Use Slicing and Concatenation**"
      ],
      "metadata": {
        "id": "rehqqCpM7AcO"
      }
    },
    {
      "cell_type": "code",
      "source": [
        "t = (1, 2, 3, 4, 5)\n",
        "# Replace element at index 2\n",
        "new_t = t[:2] + (8,) + t[3:]\n"
      ],
      "metadata": {
        "id": "mDieHSEE7D2B"
      },
      "execution_count": 16,
      "outputs": []
    },
    {
      "cell_type": "markdown",
      "source": [
        "3.Tuple Unpacking"
      ],
      "metadata": {
        "id": "d16Eb4d97huv"
      }
    },
    {
      "cell_type": "code",
      "source": [
        "a, b, c, d = (1, 2, 3, 4)\n",
        "b = 10\n",
        "modified = (a, b, c, d)\n"
      ],
      "metadata": {
        "id": "W3C-PjT-7l56"
      },
      "execution_count": 17,
      "outputs": []
    },
    {
      "cell_type": "markdown",
      "source": [
        "4.Packing and Unpacking (Using * Operator)"
      ],
      "metadata": {
        "id": "Hr1Scjqn7re1"
      }
    },
    {
      "cell_type": "code",
      "source": [
        "t = (1, 2, 3, 4)\n",
        "t = (*t, 5)  # Appending element, results in (1, 2, 3, 4, 5)\n"
      ],
      "metadata": {
        "id": "pFNF0fyZ7tXl"
      },
      "execution_count": 18,
      "outputs": []
    },
    {
      "cell_type": "markdown",
      "source": [
        "| Action                          | Tuple Behavior                                         |\n",
        "| ------------------------------- | ------------------------------------------------------ |\n",
        "| `t[0] = x`                      | **Not allowed** – raises `TypeError`                   |\n",
        "| `t += (x,)`                     | Creates a **new tuple** via concatenation              |\n",
        "| Convert to list → modify → back | Works as a workaround                                  |\n",
        "| `t[:i] + (x,) + t[i+1:]`        | Creates a modified **new tuple**                       |\n",
        "| `*` unpacking/packing           | Another way to create a new tuple                      |\n",
        "| Modify mutable inside tuple     | Allowed (tuple stays immutable, inner mutable changes) |\n"
      ],
      "metadata": {
        "id": "lw4MlZd270SZ"
      }
    },
    {
      "cell_type": "markdown",
      "source": [
        "Que-16 What is a nested dictionary, and give an example of its use case ?\n",
        "\n",
        "Ans- A nested dictionary is a dictionary that contains other dictionaries as its values. This allows you to store data in a hierarchical, structured format. In Python, you can nest dictionaries to represent complex, grouped, or multilevel data, similar to how JSON objects are structured.\n",
        "\n",
        "**Example of a nested dictionary**\n",
        "\n",
        "A common use case for a nested dictionary is managing structured data, such as student or employee records. For example, you could create a dictionary to store student information, where each student's ID is a key and the value is another dictionary containing their name, age, and grade.\n"
      ],
      "metadata": {
        "id": "s5tpjren760K"
      }
    },
    {
      "cell_type": "code",
      "source": [
        "students = {\n",
        "    'S001': {\n",
        "        'name': 'Alice',\n",
        "        'age': 16,\n",
        "        'grade': 'A'\n",
        "    },\n",
        "    'S002': {\n",
        "        'name': 'Bob',\n",
        "        'age': 17,\n",
        "        'grade': 'B'\n",
        "    },\n",
        "    'S003': {\n",
        "        'name': 'Charlie',\n",
        "        'age': 16,\n",
        "        'grade': 'A'\n",
        "    }\n",
        "}\n",
        "\n",
        "print(students['S001']['grade'])  # → 'A'\n"
      ],
      "metadata": {
        "colab": {
          "base_uri": "https://localhost:8080/"
        },
        "id": "yP2oWHPf8ob_",
        "outputId": "f78dfd7e-3548-4b4f-d8c1-e5f817de0ef9"
      },
      "execution_count": 19,
      "outputs": [
        {
          "output_type": "stream",
          "name": "stdout",
          "text": [
            "A\n"
          ]
        }
      ]
    },
    {
      "cell_type": "markdown",
      "source": [
        "**Use cases for nested dictionaries**\n",
        "\n",
        "**Employee records:** You can organize employee data by department. The main dictionary keys could be department names, with each value being a nested dictionary of employees within that department.\n",
        "\n",
        "**Inventory management:** In a store's inventory system, you can group products by category and subcategory. The outer dictionary would list product categories, and nested dictionaries could hold specific product details, like price and stock levels.\n",
        "\n",
        "**Parsing JSON data:** JSON (JavaScript Object Notation) is a standard format for data exchange on the web. It is naturally hierarchical and can be directly mapped to and from nested Python dictionaries, which is useful when working with web APIs.\n",
        "\n",
        "**Configuration settings:** Nested dictionaries are ideal for managing configuration files, where settings are organized into logical groups. For example, a configuration dictionary could have keys for \"database,\" \"server,\" and \"logging,\" each with its own nested dictionary of specific settings."
      ],
      "metadata": {
        "id": "2TvnMtE38vNa"
      }
    },
    {
      "cell_type": "markdown",
      "source": [
        "Que-17 Describe the time complexity of accessing elements in a dictionary ?\n",
        "\n",
        "Ans- The time complexity of accessing elements in a dictionary is generally O(1) on average. This is because dictionaries are typically implemented using hash tables.\n",
        "\n",
        "**Here's why:**\n",
        "\n",
        "**Hashing:**\n",
        "\n",
        "When you store a key-value pair in a dictionary, the key is passed through a hash function, which generates a unique hash value (an integer). This hash value determines the \"bucket\" or location where the key-value pair will be stored within the hash table.\n",
        "\n",
        "**Direct Access:**\n",
        "\n",
        "When you want to access a value using its key, the same hash function is applied to the key, and the resulting hash value directly points to the location of the corresponding value. This direct access mechanism allows for constant-time retrieval, meaning the time taken to find an element does not significantly increase with the size of the dictionary.\n",
        "\n",
        "**Worst-Case Scenario:**\n",
        "\n",
        "While the average time complexity is O(1), in the worst-case scenario, the time complexity can degrade to O(n), where 'n' is the number of elements in the dictionary. This occurs due to hash collisions. If multiple keys produce the same hash value, they might be stored in the same \"bucket\" (often implemented as a linked list). In such a case, the dictionary might have to iterate through the elements within that bucket to find the desired key, leading to linear time complexity. However, well-designed hash functions and collision resolution strategies in modern dictionary implementations minimize the occurrence of such worst-case scenarios, making O(1) the typical performance for accessing elements.\n"
      ],
      "metadata": {
        "id": "XszL2vmi9znt"
      }
    },
    {
      "cell_type": "markdown",
      "source": [
        "Que-18 In what situations are lists preferred over dictionaries ?\n",
        "\n",
        "Ans- Lists are preferred over dictionaries when the order of elements is important, duplicate items are allowed, or items are accessed by a numerical index. The best choice depends on the specific requirements of the task.\n",
        "\n",
        "**When to prefer lists**\n",
        "\n",
        "**When item order matters:** Lists are an ordered collection, meaning the sequence in which you add elements is maintained.\n",
        "\n",
        "Example: Managing a to-do list where the order of tasks is important.\n",
        "\n",
        "**When duplicate values are needed:** Lists allow for duplicate entries, while a dictionary's keys must be unique.\n",
        "\n",
        "Example: Storing a history of temperature readings, where the same temperature can occur multiple times.\n",
        "\n",
        "**For simple, ordered collections:** If you have a straightforward collection of items where a key-value mapping is unnecessary, lists are simpler and have less memory overhead.\n",
        "\n",
        "Example: A grocery list of items or a log of events.\n",
        "\n",
        "**When iterating sequentially:** If your primary operation is to loop through all items one by one, lists are often faster and more direct.\n",
        "\n",
        "Example: Processing each line of a file stored in memory.When access is by integer index: Accessing an element in a list by its integer index (e.g., my_list[0]) is extremely fast (\\(O(1)\\)).Example: Retrieving the first or last element of a sequence.\n",
        "\n",
        "**Scenarios where lists are a better fit**\n",
        "\n",
        "**Implementing a stack or queue:** The ordered nature of lists makes them ideal for representing these data structures, where elements are added and removed from either end.\n",
        "\n",
        "**Storing a sequence of events:** For chronological data, like user actions in an application, a list ensures the timeline is preserved.\n",
        "\n",
        "**Processing rows of data:** If you are working with tabular data and need to perform operations on each row in order, a list of lists can be a more direct representation than a dictionary.\n",
        "\n",
        "**Prioritizing memory efficiency:** For smaller collections of simple data types, lists use less memory than dictionaries, which have overhead for storing keys and computing hashes."
      ],
      "metadata": {
        "id": "vqp4Qju5_u_o"
      }
    },
    {
      "cell_type": "markdown",
      "source": [
        "Que- 19 Why are dictionaries considered unordered, and how does that affect data retrieval ?\n",
        "\n",
        "Ans- Historically, dictionaries were considered unordered because they were implemented using hash tables, which prioritize fast lookups over maintaining a fixed order. The memory addresses of the key-value pairs depended on the hash function, not on the insertion order.\n",
        "\n",
        "In modern Python, this has changed, but the fundamental data retrieval method remains the same.\n",
        "\n",
        "**The shift to insertion-ordered dictionaries**\n",
        "\n",
        "*  **Before Python 3.7:** Dictionaries were definitively unordered. When you iterated over them or printed them, the order was arbitrary and could change.\n",
        "\n",
        "*  **Python 3.7 and newer:** Dictionaries are officially insertion-ordered. The key-value pairs are stored and retrieved in the order they were added.\n",
        "\n",
        "*  **An important distinction:** While the order is now guaranteed for iteration, dictionaries are not a sequence type like lists or tuples. They do not support numeric indexing, and the order is still not part of their formal equality comparison. {'a': 1, 'b': 2} is considered equal to {'b': 2, 'a': 1} in a standard dictionary, which is not true for two different lists.\n",
        "\n",
        "**How this affects data retrieval**\n",
        "\n",
        "The underlying mechanism for data retrieval in dictionaries is still based on hash tables, which offers extremely fast performance, regardless of the dictionary's size. This is different from how lists and tuples retrieve data, which is based on position.\n",
        "\n",
        "**1.Retrieval by key is extremely fast.**\n",
        "\n",
        "* To find a value, a dictionary uses a hash function to compute the key's hash value, which is then used to locate the key-value pair in memory.\n",
        "\n",
        "* This process gives dictionaries an average time complexity of \\(O(1)\\) for data retrieval, often described as a constant-time operation. This speed holds whether the dictionary has 10 items or 10 million.\n",
        "\n",
        "**2.Retrieval by position (indexing) is not possible.**\n",
        "\n",
        "* Unlike ordered sequence types, you cannot retrieve a dictionary item by its numeric index (e.g., my_dict[0]). If you need to access items by position, you must first convert the dictionary's keys or items into a list.\n",
        "\n",
        "**3.Iteration order is predictable, but it's not the primary retrieval method.**\n",
        "\n",
        "* If you iterate over a dictionary in Python 3.7+, the items will be yielded in their insertion order, which is predictable.\n",
        "\n",
        "* This is useful for certain algorithms and for printing, but it does not change the core retrieval method of accessing values by key.\n",
        "\n",
        "\n"
      ],
      "metadata": {
        "id": "68JCQQMYFbR4"
      }
    },
    {
      "cell_type": "markdown",
      "source": [
        "Que-20 Explain the difference between a list and a dictionary in terms of data retrieval.\n",
        "\n",
        "Ans- **The fundamental difference between a list and a dictionary, in terms of data retrieval, lies in their indexing mechanisms:**\n",
        "\n",
        "**Lists:**\n",
        "\n",
        "Data in a list is retrieved using integer-based indexing. Each element in a list has an implicit numerical index, starting from 0 for the first element. To access a specific element, its position (index) within the list is used. For example, my_list[0] would retrieve the first element. This method is efficient when the order of elements is important and access is sequential or based on a known numerical position.\n",
        "\n",
        "**Dictionaries:**\n",
        "\n",
        "Data in a dictionary is retrieved using key-based indexing. Instead of numerical indices, dictionaries store data as key-value pairs. To access a specific value, its corresponding unique key is used. For example, my_dict['name'] would retrieve the value associated with the key 'name'. This method is highly efficient for direct lookups and is ideal when data needs to be accessed by a descriptive identifier rather than a numerical position.\n"
      ],
      "metadata": {
        "id": "8wXs6cDCILkw"
      }
    },
    {
      "cell_type": "markdown",
      "metadata": {
        "id": "7YA8PLCjqroP"
      },
      "source": [
        "1.Write a code to create a string with your name and print it.\n",
        "\n"
      ]
    },
    {
      "cell_type": "code",
      "execution_count": 20,
      "metadata": {
        "id": "EVKPduH9WZBj",
        "colab": {
          "base_uri": "https://localhost:8080/"
        },
        "outputId": "902dee72-4177-48d9-dc17-cb4bfdc742ef"
      },
      "outputs": [
        {
          "output_type": "stream",
          "name": "stdout",
          "text": [
            "priya\n"
          ]
        }
      ],
      "source": [
        "name = \"priya\"\n",
        "print(name)"
      ]
    },
    {
      "cell_type": "markdown",
      "metadata": {
        "id": "ytDR9FRhYf7A"
      },
      "source": [
        "2. Write a code to find the length of the string \"Hello World\".\n"
      ]
    },
    {
      "cell_type": "code",
      "execution_count": 21,
      "metadata": {
        "id": "q40-_uXXYDLE",
        "colab": {
          "base_uri": "https://localhost:8080/"
        },
        "outputId": "5d73fe50-d284-47d3-d757-899a9b7b2c37"
      },
      "outputs": [
        {
          "output_type": "stream",
          "name": "stdout",
          "text": [
            "11\n"
          ]
        }
      ],
      "source": [
        "text = \"Hello World\"\n",
        "print(len(text))\n"
      ]
    },
    {
      "cell_type": "markdown",
      "metadata": {
        "id": "gZN67AXvYn5s"
      },
      "source": [
        "3. Write a code to slice the first 3 characters from the string \"Python Programming\".\n",
        "\n",
        "\n",
        "\n"
      ]
    },
    {
      "cell_type": "code",
      "execution_count": 22,
      "metadata": {
        "id": "rh8L6500YXth"
      },
      "outputs": [],
      "source": [
        "str=\"Python Programming\""
      ]
    },
    {
      "cell_type": "code",
      "execution_count": 23,
      "metadata": {
        "id": "Da_x6Kv2gTf4",
        "colab": {
          "base_uri": "https://localhost:8080/"
        },
        "outputId": "cd4ce9ac-27c7-4835-fbbf-59b1d1414fef"
      },
      "outputs": [
        {
          "output_type": "stream",
          "name": "stdout",
          "text": [
            "Pyt\n"
          ]
        }
      ],
      "source": [
        "str1=str[0:3]\n",
        "print(str1)"
      ]
    },
    {
      "cell_type": "markdown",
      "metadata": {
        "id": "VeFnAg2Po6Cq"
      },
      "source": [
        "4.Write a code to convert the string \"hello\" to uppercase."
      ]
    },
    {
      "cell_type": "code",
      "execution_count": 24,
      "metadata": {
        "id": "fUQDHnNRhAdk",
        "colab": {
          "base_uri": "https://localhost:8080/"
        },
        "outputId": "a5657f73-03da-4990-c123-3416a4a5ca2b"
      },
      "outputs": [
        {
          "output_type": "stream",
          "name": "stdout",
          "text": [
            "HELLO\n"
          ]
        }
      ],
      "source": [
        "text=\"hello\"\n",
        "text1=text.upper()\n",
        "print(text1)"
      ]
    },
    {
      "cell_type": "markdown",
      "metadata": {
        "id": "wgLJrI8YpLzc"
      },
      "source": [
        "5.Write a code to replace the word \"apple\" with \"orange\" in the string \"I like apple\".\n"
      ]
    },
    {
      "cell_type": "code",
      "execution_count": 25,
      "metadata": {
        "id": "Elnb-kEarbU7",
        "colab": {
          "base_uri": "https://localhost:8080/"
        },
        "outputId": "4d613e03-4afe-446c-d87e-fc266591fb6e"
      },
      "outputs": [
        {
          "output_type": "stream",
          "name": "stdout",
          "text": [
            "i like orange\n"
          ]
        }
      ],
      "source": [
        "my_str=\"i like apple\"\n",
        "my_str1=my_str.replace(\"apple\",\"orange\")\n",
        "print(my_str1)"
      ]
    },
    {
      "cell_type": "markdown",
      "metadata": {
        "id": "edF1pTXmUjKr"
      },
      "source": [
        "6. Write a code to create a list with numbers 1 to 5 and print it.\n"
      ]
    },
    {
      "cell_type": "code",
      "execution_count": 26,
      "metadata": {
        "id": "qyPPmg_YUP5q",
        "colab": {
          "base_uri": "https://localhost:8080/"
        },
        "outputId": "aefb7eb3-b8e8-4dfe-e2a5-0859b89557fc"
      },
      "outputs": [
        {
          "output_type": "stream",
          "name": "stdout",
          "text": [
            "[1, 2, 3, 4, 5]\n"
          ]
        }
      ],
      "source": [
        "numbers=list(range(1,6))\n",
        "print(numbers)"
      ]
    },
    {
      "cell_type": "markdown",
      "metadata": {
        "id": "YAPBVMM2V58U"
      },
      "source": [
        "7. Write a code to append the number 10 to the list [1, 2, 3, 4].\n"
      ]
    },
    {
      "cell_type": "code",
      "execution_count": 27,
      "metadata": {
        "id": "rIXUAkp_VSCA",
        "colab": {
          "base_uri": "https://localhost:8080/"
        },
        "outputId": "008da7d0-2b67-4ee8-8462-34dc402140dd"
      },
      "outputs": [
        {
          "output_type": "stream",
          "name": "stdout",
          "text": [
            "[1, 2, 3, 4, 10]\n"
          ]
        }
      ],
      "source": [
        "list=[1,2,3,4]\n",
        "list.append(10)\n",
        "print(list)"
      ]
    },
    {
      "cell_type": "markdown",
      "metadata": {
        "id": "DsJIM-xjWR5M"
      },
      "source": [
        "8.Write a code to remove the number 3 from the list [1, 2, 3, 4, 5].\n"
      ]
    },
    {
      "cell_type": "code",
      "execution_count": 28,
      "metadata": {
        "id": "173gVs1SWEFb",
        "colab": {
          "base_uri": "https://localhost:8080/"
        },
        "outputId": "10685177-b457-4dae-8d09-3a8f7afe239e"
      },
      "outputs": [
        {
          "output_type": "stream",
          "name": "stdout",
          "text": [
            "[1, 2, 4, 5]\n"
          ]
        }
      ],
      "source": [
        "list1=[1,2,3,4,5]\n",
        "list1.remove(3)\n",
        "print(list1)"
      ]
    },
    {
      "cell_type": "markdown",
      "metadata": {
        "id": "2B885gaLXuF9"
      },
      "source": [
        "9.Write a code to access the second element in the list ['a', 'b', 'c', 'd'].\n"
      ]
    },
    {
      "cell_type": "code",
      "execution_count": 29,
      "metadata": {
        "id": "fi4wLLMAW1HT",
        "colab": {
          "base_uri": "https://localhost:8080/",
          "height": 35
        },
        "outputId": "d18d9c8d-cc31-4b20-e9a8-32a344a2e9d7"
      },
      "outputs": [
        {
          "output_type": "execute_result",
          "data": {
            "text/plain": [
              "'b'"
            ],
            "application/vnd.google.colaboratory.intrinsic+json": {
              "type": "string"
            }
          },
          "metadata": {},
          "execution_count": 29
        }
      ],
      "source": [
        "my_list=['a','b','c','d']\n",
        "my_list[1]"
      ]
    },
    {
      "cell_type": "markdown",
      "metadata": {
        "id": "NiuuwmqMYtTd"
      },
      "source": [
        "10.Write a code to reverse the list [10, 20, 30, 40, 50]."
      ]
    },
    {
      "cell_type": "code",
      "execution_count": 30,
      "metadata": {
        "id": "waogIjEXYHpM",
        "colab": {
          "base_uri": "https://localhost:8080/"
        },
        "outputId": "11ca7329-8727-495a-cd96-9cbb3080c152"
      },
      "outputs": [
        {
          "output_type": "stream",
          "name": "stdout",
          "text": [
            "[50, 40, 30, 20, 10]\n"
          ]
        }
      ],
      "source": [
        "lis=[10, 20, 30, 40, 50]\n",
        "lis.reverse()\n",
        "print(lis)"
      ]
    },
    {
      "cell_type": "markdown",
      "metadata": {
        "id": "S0IaXNhKZrr6"
      },
      "source": [
        "11.Write a code to create a tuple with the elements 100, 200, 300 and print it."
      ]
    },
    {
      "cell_type": "code",
      "execution_count": 31,
      "metadata": {
        "id": "1At4w2OZZJng",
        "colab": {
          "base_uri": "https://localhost:8080/"
        },
        "outputId": "88c864d1-86c1-4cb0-eac1-1d3146ef9718"
      },
      "outputs": [
        {
          "output_type": "stream",
          "name": "stdout",
          "text": [
            "(100, 200, 300)\n"
          ]
        }
      ],
      "source": [
        "tuple=(100,200,300)\n",
        "print(tuple)"
      ]
    },
    {
      "cell_type": "markdown",
      "metadata": {
        "id": "y932TyQRax4n"
      },
      "source": [
        "12. Write a code to access the second-to-last element of the tuple ('red', 'green', 'blue', 'yellow')."
      ]
    },
    {
      "cell_type": "code",
      "execution_count": 32,
      "metadata": {
        "id": "THsv6djhazQz"
      },
      "outputs": [],
      "source": [
        "colour=('red', 'green', 'blue', 'yellow')"
      ]
    },
    {
      "cell_type": "code",
      "execution_count": 33,
      "metadata": {
        "colab": {
          "base_uri": "https://localhost:8080/",
          "height": 35
        },
        "id": "SfpHWR1Rhcm_",
        "outputId": "7ebaa146-8074-4017-ef25-1a85ac12153a"
      },
      "outputs": [
        {
          "output_type": "execute_result",
          "data": {
            "text/plain": [
              "'blue'"
            ],
            "application/vnd.google.colaboratory.intrinsic+json": {
              "type": "string"
            }
          },
          "metadata": {},
          "execution_count": 33
        }
      ],
      "source": [
        "colour[-2]"
      ]
    },
    {
      "cell_type": "markdown",
      "metadata": {
        "id": "n51oatejjTnq"
      },
      "source": [
        "13. Write a code to find the minimum number in the tuple (10, 20, 5, 15)."
      ]
    },
    {
      "cell_type": "code",
      "execution_count": 34,
      "metadata": {
        "colab": {
          "base_uri": "https://localhost:8080/"
        },
        "id": "tsoPAtYohrL5",
        "outputId": "49fe2bbe-b408-4b92-ed8e-ceadb4b78817"
      },
      "outputs": [
        {
          "output_type": "stream",
          "name": "stdout",
          "text": [
            "The minimum number in the tuple is: 5\n"
          ]
        }
      ],
      "source": [
        "numbers = (10, 20, 5, 15)\n",
        "minimum_value = min(numbers)\n",
        "print(\"The minimum number in the tuple is:\", minimum_value)\n"
      ]
    },
    {
      "cell_type": "markdown",
      "metadata": {
        "id": "u3SoKbenQOun"
      },
      "source": [
        "14. Write a code to find the index of the element \"cat\" in the tuple ('dog', 'cat', 'rabbit')."
      ]
    },
    {
      "cell_type": "code",
      "execution_count": 35,
      "metadata": {
        "colab": {
          "base_uri": "https://localhost:8080/"
        },
        "id": "WDHXA_fNPmmH",
        "outputId": "b57ec46a-da73-4905-aa5b-de7498817713"
      },
      "outputs": [
        {
          "output_type": "stream",
          "name": "stdout",
          "text": [
            "1\n"
          ]
        }
      ],
      "source": [
        "animal=('dog', 'cat', 'rabbit')\n",
        "print(animal.index('cat'))"
      ]
    },
    {
      "cell_type": "markdown",
      "metadata": {
        "id": "1ek2q0aoQqUM"
      },
      "source": [
        "15. Write a code to create a tuple containing three different fruits and check if \"kiwi\" is in it."
      ]
    },
    {
      "cell_type": "code",
      "execution_count": 36,
      "metadata": {
        "colab": {
          "base_uri": "https://localhost:8080/"
        },
        "id": "lvnsQnqDQenY",
        "outputId": "b6e0d33d-b64d-4ebb-a6e4-e4e111950804"
      },
      "outputs": [
        {
          "output_type": "stream",
          "name": "stdout",
          "text": [
            "kiwi is in tuple\n"
          ]
        }
      ],
      "source": [
        "fruits=(\"apple\",\"banana\",\"kiwi\",\"orange\")\n",
        "if \"kiwi\" in fruits:\n",
        "  print(\"kiwi is in tuple\")\n",
        "else:\n",
        "  print(\"kiwi is not in tuple\")"
      ]
    },
    {
      "cell_type": "markdown",
      "metadata": {
        "id": "4YGRuZGlf0L3"
      },
      "source": [
        "16. Write a code to create a set with the elements 'a', 'b', 'c' and print it."
      ]
    },
    {
      "cell_type": "code",
      "execution_count": 37,
      "metadata": {
        "colab": {
          "base_uri": "https://localhost:8080/"
        },
        "id": "WfRj6FUuRggQ",
        "outputId": "1f1f7de5-6f9d-47e9-a8fb-0dd2e2f9cf95"
      },
      "outputs": [
        {
          "output_type": "stream",
          "name": "stdout",
          "text": [
            "{'a', 'c', 'b'}\n"
          ]
        }
      ],
      "source": [
        "set={'a','b','c'}\n",
        "print(set)"
      ]
    },
    {
      "cell_type": "markdown",
      "metadata": {
        "id": "7CYNem8_ga_p"
      },
      "source": [
        "17. Write a code to clear all elements from the set {1, 2, 3, 4, 5}."
      ]
    },
    {
      "cell_type": "code",
      "execution_count": 38,
      "metadata": {
        "colab": {
          "base_uri": "https://localhost:8080/"
        },
        "id": "XLf3Nn9egEiX",
        "outputId": "cd332f48-a3e1-4aa8-c405-cf20e081c833"
      },
      "outputs": [
        {
          "output_type": "stream",
          "name": "stdout",
          "text": [
            "{1, 2, 3, 4, 5}\n"
          ]
        }
      ],
      "source": [
        "my_set={1, 2, 3, 4, 5}\n",
        "print(my_set)"
      ]
    },
    {
      "cell_type": "code",
      "execution_count": 39,
      "metadata": {
        "colab": {
          "base_uri": "https://localhost:8080/"
        },
        "id": "W_Yufa7bgiui",
        "outputId": "82074166-3d7c-4dba-809b-16f34969e02c"
      },
      "outputs": [
        {
          "output_type": "stream",
          "name": "stdout",
          "text": [
            "set()\n"
          ]
        }
      ],
      "source": [
        "my_set.clear()\n",
        "print(my_set)"
      ]
    },
    {
      "cell_type": "markdown",
      "metadata": {
        "id": "6sp-tSiojVe3"
      },
      "source": [
        "18. Write a code to remove the element 4 from the set {1, 2, 3, 4}."
      ]
    },
    {
      "cell_type": "code",
      "execution_count": 40,
      "metadata": {
        "id": "f-AnXHA6jYa3"
      },
      "outputs": [],
      "source": [
        "set1={1, 2, 3, 4}\n"
      ]
    },
    {
      "cell_type": "code",
      "execution_count": 41,
      "metadata": {
        "colab": {
          "base_uri": "https://localhost:8080/"
        },
        "id": "zDo2FyJ2jeQT",
        "outputId": "bf87f80a-d6f8-4688-ff65-cac17930c72e"
      },
      "outputs": [
        {
          "output_type": "stream",
          "name": "stdout",
          "text": [
            "{1, 2, 3}\n"
          ]
        }
      ],
      "source": [
        "set1.remove(4)\n",
        "print(set1)"
      ]
    },
    {
      "cell_type": "markdown",
      "metadata": {
        "id": "4x0OSsLWlFIe"
      },
      "source": [
        "19. Write a code to find the union of two sets {1, 2, 3} and {3, 4, 5}."
      ]
    },
    {
      "cell_type": "code",
      "execution_count": 42,
      "metadata": {
        "colab": {
          "base_uri": "https://localhost:8080/"
        },
        "id": "tVyl6UtBjoRM",
        "outputId": "52da1467-db78-4ebb-d684-f5f7da7e508b"
      },
      "outputs": [
        {
          "output_type": "stream",
          "name": "stdout",
          "text": [
            "{1, 2, 3, 4, 5}\n"
          ]
        }
      ],
      "source": [
        "set1={1,2,3}\n",
        "set2={3,4,5}\n",
        "print(set1.union(set2))"
      ]
    },
    {
      "cell_type": "markdown",
      "metadata": {
        "id": "YoOcwH2ulnxZ"
      },
      "source": [
        "20. Write a code to find the intersection of two sets {1, 2, 3} and {2, 3, 4}."
      ]
    },
    {
      "cell_type": "code",
      "execution_count": 43,
      "metadata": {
        "colab": {
          "base_uri": "https://localhost:8080/"
        },
        "id": "J5cvy_THlbXE",
        "outputId": "8cdfec77-44b8-4b7c-d024-113aa6bfa4f8"
      },
      "outputs": [
        {
          "output_type": "stream",
          "name": "stdout",
          "text": [
            "{2, 3}\n"
          ]
        }
      ],
      "source": [
        "set1={1,2,3}\n",
        "set2={2,3,4}\n",
        "print(set1.intersection(set2))"
      ]
    },
    {
      "cell_type": "markdown",
      "metadata": {
        "id": "btDrc0pvmU1j"
      },
      "source": [
        "21. Write a code to create a dictionary with the keys \"name\", \"age\", and \"city\", and print it."
      ]
    },
    {
      "cell_type": "code",
      "execution_count": 44,
      "metadata": {
        "colab": {
          "base_uri": "https://localhost:8080/"
        },
        "id": "PYwCNKOyl0io",
        "outputId": "47fd8d39-7cec-4968-b372-05902d63f811"
      },
      "outputs": [
        {
          "output_type": "stream",
          "name": "stdout",
          "text": [
            "{'name': 'Priya', 'age': 28, 'city': 'delhi'}\n"
          ]
        }
      ],
      "source": [
        "dictonary={\"name\":\"Priya\",\n",
        "           \"age\":28,\n",
        "           \"city\":\"delhi\"}\n",
        "print(dictonary)"
      ]
    },
    {
      "cell_type": "markdown",
      "metadata": {
        "id": "G3nfcC5vnAYu"
      },
      "source": [
        "22. Write a code to add a new key-value pair \"country\": \"USA\" to the dictionary {'name': 'John', 'age': 25}."
      ]
    },
    {
      "cell_type": "code",
      "execution_count": 45,
      "metadata": {
        "id": "CLVU2Z28m0W8"
      },
      "outputs": [],
      "source": [
        "dict= {'name': 'John', 'age': 25}"
      ]
    },
    {
      "cell_type": "code",
      "execution_count": 46,
      "metadata": {
        "colab": {
          "base_uri": "https://localhost:8080/"
        },
        "id": "ICfutj3Onm5J",
        "outputId": "9adce488-999f-406e-9959-cb3a91792fa9"
      },
      "outputs": [
        {
          "output_type": "stream",
          "name": "stdout",
          "text": [
            "{'name': 'John', 'age': 25, 'country': 'usa'}\n"
          ]
        }
      ],
      "source": [
        "dict.update({\"country\":\"usa\"})\n",
        "print(dict)"
      ]
    },
    {
      "cell_type": "markdown",
      "metadata": {
        "id": "biTkPxRroPlH"
      },
      "source": [
        "23. Write a code to access the value associated with the key \"name\" in the dictionary {'name': 'Alice', 'age': 30}."
      ]
    },
    {
      "cell_type": "code",
      "execution_count": 47,
      "metadata": {
        "colab": {
          "base_uri": "https://localhost:8080/"
        },
        "id": "FuBHl4O8nz88",
        "outputId": "11c7b0e7-2f18-4d95-c3de-b6ad2d77cd05"
      },
      "outputs": [
        {
          "output_type": "stream",
          "name": "stdout",
          "text": [
            "Alice\n"
          ]
        }
      ],
      "source": [
        "person={'name': 'Alice', 'age': 30}\n",
        "print(person.get(\"name\"))\n"
      ]
    },
    {
      "cell_type": "markdown",
      "metadata": {
        "id": "9SwWrvAwo0fg"
      },
      "source": [
        "24. Write a code to remove the key \"age\" from the dictionary {'name': 'Bob', 'age': 22, 'city': 'New York'}."
      ]
    },
    {
      "cell_type": "code",
      "execution_count": 48,
      "metadata": {
        "colab": {
          "base_uri": "https://localhost:8080/"
        },
        "id": "7bkwlhSSoeEU",
        "outputId": "4f468e64-ba17-41f5-c8ec-d213ec10ad30"
      },
      "outputs": [
        {
          "output_type": "stream",
          "name": "stdout",
          "text": [
            "22\n"
          ]
        }
      ],
      "source": [
        "person1={'name': 'Bob', 'age': 22, 'city': 'New York'}\n",
        "print(person1.pop(\"age\"))"
      ]
    },
    {
      "cell_type": "code",
      "source": [
        "print(person1)"
      ],
      "metadata": {
        "colab": {
          "base_uri": "https://localhost:8080/"
        },
        "id": "veBJb5m9saSf",
        "outputId": "05f99451-4cbd-40ab-e82a-067d6564cdf3"
      },
      "execution_count": 49,
      "outputs": [
        {
          "output_type": "stream",
          "name": "stdout",
          "text": [
            "{'name': 'Bob', 'city': 'New York'}\n"
          ]
        }
      ]
    },
    {
      "cell_type": "markdown",
      "source": [
        "25. Write a code to check if the key \"city\" exists in the dictionary {'name': 'Alice', 'city': 'Paris'}."
      ],
      "metadata": {
        "id": "nE_aSe_VsS1o"
      }
    },
    {
      "cell_type": "code",
      "execution_count": 50,
      "metadata": {
        "id": "xxC9zP0xpJLE",
        "colab": {
          "base_uri": "https://localhost:8080/"
        },
        "outputId": "523f91e6-9d20-43e4-f333-b52f9e5b0cf4"
      },
      "outputs": [
        {
          "output_type": "stream",
          "name": "stdout",
          "text": [
            "key exists in dictonary\n"
          ]
        }
      ],
      "source": [
        "dict1={'name': 'Alice', 'city': 'Paris'}\n",
        "if \"city\" in dict1:\n",
        "  print(\"key exists in dictonary\")\n",
        "else:\n",
        "  print(\"key not exists in dictonary\")"
      ]
    },
    {
      "cell_type": "markdown",
      "source": [
        "26. Write a code to create a list, a tuple, and a dictionary, and print them all."
      ],
      "metadata": {
        "id": "9v0eG3MEVBs7"
      }
    },
    {
      "cell_type": "code",
      "source": [
        "list=[20,40,80,60]\n",
        "tup=('apple', 'banana', 'cherry')\n",
        "my_dict={\"Name\":\"Pooja\",\"Roll No\" : 25436,\"Subject\" : \"Maths\",\"Marks\" : 90}\n",
        "print(list)\n",
        "print(tup)\n",
        "print(my_dict)"
      ],
      "metadata": {
        "colab": {
          "base_uri": "https://localhost:8080/"
        },
        "id": "0qHiMjzkUlSG",
        "outputId": "2f3c5f96-137e-4ae7-b2e3-ecd37702fcd9"
      },
      "execution_count": 51,
      "outputs": [
        {
          "output_type": "stream",
          "name": "stdout",
          "text": [
            "[20, 40, 80, 60]\n",
            "('apple', 'banana', 'cherry')\n",
            "{'Name': 'Pooja', 'Roll No': 25436, 'Subject': 'Maths', 'Marks': 90}\n"
          ]
        }
      ]
    },
    {
      "cell_type": "markdown",
      "source": [
        " Write a code to create a list of 5 random numbers between 1 and 100, sort it in ascending order, and print the\n",
        "result.(replaced)"
      ],
      "metadata": {
        "id": "CWMQy24nx1KJ"
      }
    },
    {
      "cell_type": "code",
      "source": [
        "import random\n",
        "\n",
        "# Generate 5 random numbers between 1 and 100\n",
        "random_numbers = [random.randint(1, 100) for _ in range(5)]\n",
        "\n",
        "# Sort the list in ascending order\n",
        "random_numbers.sort()\n",
        "\n",
        "# Print the sorted list\n",
        "print(random_numbers)"
      ],
      "metadata": {
        "colab": {
          "base_uri": "https://localhost:8080/"
        },
        "id": "JccCw31gVua4",
        "outputId": "fb786046-fd97-4652-ee4a-b5e229839d50"
      },
      "execution_count": 52,
      "outputs": [
        {
          "output_type": "stream",
          "name": "stdout",
          "text": [
            "[22, 50, 55, 64, 88]\n"
          ]
        }
      ]
    },
    {
      "cell_type": "markdown",
      "source": [
        "27.Write a code to create a list of 5 random numbers between 1 and 100, sort it in ascending order, and print the result.(replaced)"
      ],
      "metadata": {
        "id": "shb459EKJLOH"
      }
    },
    {
      "cell_type": "code",
      "source": [
        "import random\n",
        "\n",
        "# Generate a list of 5 random integers between 1 and 100 (inclusive)\n",
        "random_numbers = [random.randint(1, 100) for _ in range(5)]\n",
        "\n",
        "# Sort the list in ascending order\n",
        "random_numbers.sort()\n",
        "\n",
        "# Print the sorted list\n",
        "print(random_numbers)\n"
      ],
      "metadata": {
        "colab": {
          "base_uri": "https://localhost:8080/"
        },
        "id": "IqfkPym_JJdO",
        "outputId": "b8e52af5-2941-47d6-e0b9-c03f4d4e54f7"
      },
      "execution_count": 53,
      "outputs": [
        {
          "output_type": "stream",
          "name": "stdout",
          "text": [
            "[7, 24, 45, 69, 70]\n"
          ]
        }
      ]
    },
    {
      "cell_type": "markdown",
      "source": [
        "28. Write a code to create a list with strings and print the element at the third index."
      ],
      "metadata": {
        "id": "tNTAgAfWyCeg"
      }
    },
    {
      "cell_type": "code",
      "source": [
        "string_list = [\"apple\", \"banana\", \"cherry\", \"mango\", \"elderberry\"]\n",
        "print(string_list[3])"
      ],
      "metadata": {
        "colab": {
          "base_uri": "https://localhost:8080/"
        },
        "id": "Ur9Rr3eXYOhi",
        "outputId": "d14c0ffe-a822-4302-9d8c-112564622b55"
      },
      "execution_count": 54,
      "outputs": [
        {
          "output_type": "stream",
          "name": "stdout",
          "text": [
            "mango\n"
          ]
        }
      ]
    },
    {
      "cell_type": "markdown",
      "source": [
        "29. Write a code to combine two dictionaries into one and print the result."
      ],
      "metadata": {
        "id": "hlG5_AYM0VRS"
      }
    },
    {
      "cell_type": "code",
      "source": [
        "#1 method\n",
        "dict1={\"a\":1,\"b\":2}\n",
        "dict2={\"c\":3,\"d\":4}\n",
        "dict1.update(dict2)\n",
        "print(dict1)"
      ],
      "metadata": {
        "colab": {
          "base_uri": "https://localhost:8080/"
        },
        "id": "t3x306Fpyj_m",
        "outputId": "d1024b85-e1e2-4569-de96-fac29970b89d"
      },
      "execution_count": 55,
      "outputs": [
        {
          "output_type": "stream",
          "name": "stdout",
          "text": [
            "{'a': 1, 'b': 2, 'c': 3, 'd': 4}\n"
          ]
        }
      ]
    },
    {
      "cell_type": "code",
      "source": [
        "#2 method\n",
        "d1 = {'x': 1, 'y': 2}\n",
        "d2 = {'y': 3, 'z': 4}\n",
        "\n",
        "d3 = d1 | d2\n",
        "print(d3)"
      ],
      "metadata": {
        "colab": {
          "base_uri": "https://localhost:8080/"
        },
        "id": "20WxjQJSzPXT",
        "outputId": "39d6e83f-99fb-4137-dd0b-9c6b29587b2d"
      },
      "execution_count": 56,
      "outputs": [
        {
          "output_type": "stream",
          "name": "stdout",
          "text": [
            "{'x': 1, 'y': 3, 'z': 4}\n"
          ]
        }
      ]
    },
    {
      "cell_type": "markdown",
      "source": [
        "30. Write a code to convert a list of strings into a set."
      ],
      "metadata": {
        "id": "F-JTL2G211Qw"
      }
    },
    {
      "cell_type": "code",
      "source": [
        "string_list=[\"Banana\",\"Mango\",\"Cherry\",\"Apple\"]\n",
        "string_set=set(string_list)\n",
        "print(string_set)"
      ],
      "metadata": {
        "colab": {
          "base_uri": "https://localhost:8080/",
          "height": 176
        },
        "id": "9W0xMexh1KJg",
        "outputId": "53990639-538a-4f2b-e4ff-677d893fde07"
      },
      "execution_count": 57,
      "outputs": [
        {
          "output_type": "error",
          "ename": "TypeError",
          "evalue": "'set' object is not callable",
          "traceback": [
            "\u001b[0;31m---------------------------------------------------------------------------\u001b[0m",
            "\u001b[0;31mTypeError\u001b[0m                                 Traceback (most recent call last)",
            "\u001b[0;32m/tmp/ipython-input-3995922729.py\u001b[0m in \u001b[0;36m<cell line: 0>\u001b[0;34m()\u001b[0m\n\u001b[1;32m      1\u001b[0m \u001b[0mstring_list\u001b[0m\u001b[0;34m=\u001b[0m\u001b[0;34m[\u001b[0m\u001b[0;34m\"Banana\"\u001b[0m\u001b[0;34m,\u001b[0m\u001b[0;34m\"Mango\"\u001b[0m\u001b[0;34m,\u001b[0m\u001b[0;34m\"Cherry\"\u001b[0m\u001b[0;34m,\u001b[0m\u001b[0;34m\"Apple\"\u001b[0m\u001b[0;34m]\u001b[0m\u001b[0;34m\u001b[0m\u001b[0;34m\u001b[0m\u001b[0m\n\u001b[0;32m----> 2\u001b[0;31m \u001b[0mstring_set\u001b[0m\u001b[0;34m=\u001b[0m\u001b[0mset\u001b[0m\u001b[0;34m(\u001b[0m\u001b[0mstring_list\u001b[0m\u001b[0;34m)\u001b[0m\u001b[0;34m\u001b[0m\u001b[0;34m\u001b[0m\u001b[0m\n\u001b[0m\u001b[1;32m      3\u001b[0m \u001b[0mprint\u001b[0m\u001b[0;34m(\u001b[0m\u001b[0mstring_set\u001b[0m\u001b[0;34m)\u001b[0m\u001b[0;34m\u001b[0m\u001b[0;34m\u001b[0m\u001b[0m\n",
            "\u001b[0;31mTypeError\u001b[0m: 'set' object is not callable"
          ]
        }
      ]
    },
    {
      "cell_type": "code",
      "source": [],
      "metadata": {
        "id": "LW0oNFbA2R7S"
      },
      "execution_count": null,
      "outputs": []
    }
  ],
  "metadata": {
    "colab": {
      "provenance": []
    },
    "kernelspec": {
      "display_name": "Python 3",
      "name": "python3"
    },
    "language_info": {
      "name": "python"
    }
  },
  "nbformat": 4,
  "nbformat_minor": 0
}