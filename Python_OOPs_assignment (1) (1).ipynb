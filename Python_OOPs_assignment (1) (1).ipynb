{
 "cells": [
  {
   "cell_type": "markdown",
   "metadata": {
    "id": "px1C4H4FmImJ"
   },
   "source": [
    "Que-1  What is Object-Oriented Programming (OOP) ?\n",
    "\n",
    "Ans- Object-oriented programming is a programming paradigm that is based on the concept of \"objects\", which can contain data and code that manipulates that data. In OOP, objects are created from templates called \"classes\", which define the properties and behavior of the objects they create.\n"
   ]
  },
  {
   "cell_type": "markdown",
   "metadata": {
    "id": "qUjpj85hn4Fg"
   },
   "source": [
    "Que-2 What is a class in OOP ?\n",
    "\n",
    "Ans- In Object-Oriented Programming (OOP), a class is a blueprint or template for creating objects. It defines the attributes (data) and methods (functions) that the objects created from the class will have. Each object, or instance, of a class can have different values for its attributes, but they share the same structure and behavior defined by the class.\n",
    "\n",
    " **Components of a Class:-**\n",
    "\n",
    " 1. Attributes (Fields): Variables that hold the state or properties of an object.\n",
    " 2. Methods (Functions): Functions that define the behavior or actions that an object can perform.\n"
   ]
  },
  {
   "cell_type": "markdown",
   "metadata": {
    "id": "WUIV6UsBo779"
   },
   "source": [
    "Que-3  3H What is an object in OOP ?\n",
    "\n",
    "Ans- In Object-Oriented Programming (OOP), an object is a fundamental unit that encapsulates both data and behavior. It is an instance of a class, created during program execution, and represents a specific entity with a unique identity, state, and behavior.\n",
    "\n",
    "**Key Characteristics of an Object:-**\n",
    "\n",
    "1. Identity: Each object has a unique identity that distinguishes it from other objects, even if their states are identical.\n",
    "\n",
    "2. State: The state of an object is defined by the values of its attributes (also known as fields or properties). These attributes hold the data specific to the object.\n",
    "\n",
    "3. Behavior: An object's behavior is defined by the methods (functions) associated with its class. These methods determine how the object can interact with other objects and how it can change its own state.\n",
    "\n",
    "\n",
    "\n",
    "\n",
    "\n",
    "\n",
    "\n"
   ]
  },
  {
   "cell_type": "markdown",
   "metadata": {
    "id": "I92f2T64qkUT"
   },
   "source": [
    "Que-4 What is the difference between abstraction and encapsulation ?\n",
    "\n",
    "Ans- **Key Differences Between Abstraction and Encapsulation** -\n",
    "\n",
    "**Abstraction :-**\n",
    "1. Purpose - Focuses on exposing only essential features and hiding unnecessary details.\n",
    "2. Focus - Emphasizes what an object does.\n",
    "3. Implementation - Achieved through abstract classes and interfaces.\n",
    "4. Primary Goal\t- Simplifies complexity by providing a clear interface.\n",
    "\n",
    "Example:\n",
    "In a mobile phone, the internal components like the processor and memory are encapsulated within the phone's hardware, and you don't have direct access to them.\n",
    "\n",
    "**Encapsulation :-**\n",
    "1. Purpose - Bundles data and methods operating on that data within a single unit, restricting direct access.\n",
    "2. Focus - Emphasizes how an object achieves its functionality.\n",
    "3. Implementation - Achieved using access modifiers like private, protected, and public.\n",
    "4. Primary Goal\t- Protects object integrity by preventing unauthorized access and modification.\n",
    "\n",
    "Example:\n",
    "If you're designing a software system, you might use abstraction to create a simplified interface for users, and encapsulation to protect the internal data of each object.\n",
    "\n",
    "\n"
   ]
  },
  {
   "cell_type": "markdown",
   "metadata": {
    "id": "n5JyOFjvtZdg"
   },
   "source": [
    "Que- 5\n",
    "\n",
    "Ans- Dunder methods, also known as magic methods, are special methods in Python that begin and end with double underscores (e.g., __init__, __str__, __len__). They allow classes to define how they behave with built-in functions and operators. When a dunder method is defined in a class, it overrides the default behavior for that operation. For instance, __init__ is the constructor for a class, __str__ defines how an object is represented as a string, and __add__ defines the behavior of the + operator.\n",
    "\n",
    "Here are a few examples of dunder methods:\n",
    "\n",
    "\n",
    "\n",
    "* __init__(self, ...): Constructor for a class.\n",
    "\n",
    "* __str__(self): Returns a string representation of an object.\n",
    "\n",
    "* __repr__(self): Returns a printable representation of an object.\n",
    "\n",
    "* __len__(self): Returns the length of an object.\n",
    "\n",
    "* __add__(self, other): Defines addition behavior.\n",
    "\n",
    "* __eq__(self, other): Defines equality behavior.\n",
    "\n",
    "* __getitem__(self, key): Enables indexing and slicing.\n",
    "\n",
    "* __call__(self, ...): Allows an object to be called like a function.\n"
   ]
  },
  {
   "cell_type": "markdown",
   "metadata": {
    "id": "ePhA9ywUuu5W"
   },
   "source": [
    "Que-6 Explain the concept of inheritance in OOP ?\n",
    "\n",
    "Ans- In Object-Oriented Programming (OOP), inheritance is a fundamental concept that allows a class (known as a child class or subclass) to acquire properties and behaviors (methods) from another class (referred to as a parent class, superclass, or base class). This mechanism promotes code reusability and establishes a hierarchical relationship between classes.\n",
    "\n",
    "\n",
    "Key Concepts of Inheritance\n",
    "\n",
    "\n",
    "* Code Reusability: Inheritance enables the reuse of existing code, reducing redundancy and promoting efficient software development.\n",
    "\n",
    "* Hierarchical Relationships: It establishes a natural hierarchy between classes, allowing for organized and logical structuring of code.\n",
    "\n",
    "* Method Overriding: Subclasses can modify or extend the behaviors of parent classes by overriding methods, providing specialized functionality.\n",
    "\n",
    "\n",
    "Types of Inheritance\n",
    "1. Single Inheritance: A subclass inherits from one superclass.\n",
    "\n",
    "2. Multiple Inheritance: A subclass inherits from multiple superclasses.\n",
    "\n",
    "3. Multilevel Inheritance: A subclass inherits from a superclass, and another subclass inherits from that subclass, forming a chain.\n",
    "\n",
    "4. Hierarchical Inheritance: Multiple subclasses inherit from a single superclass.\n",
    "\n",
    "5. Hybrid Inheritance: A combination of two or more types of inheritance.\n",
    "\n"
   ]
  },
  {
   "cell_type": "markdown",
   "metadata": {
    "id": "4958XBk8vuO8"
   },
   "source": [
    "Que-7 What is polymorphism in OOP ?\n",
    "\n",
    "Ans- In Object-Oriented Programming (OOP), polymorphism, derived from \"poly\" (many) and \"morph\" (form), allows objects of different classes to be treated in a uniform way through a common interface. This enables a single method or function to behave differently depending on the type of object it's called upon, enhancing flexibility and extensibility in code. Essentially, polymorphism allows you to call the same method on different objects, and each object responds according to its specific implementation.\n",
    "\n"
   ]
  },
  {
   "cell_type": "markdown",
   "metadata": {
    "id": "vtJTr_Pzw3i4"
   },
   "source": [
    "Que-8 How is encapsulation achieved in Python ?\n",
    "\n",
    "\n",
    "Ans- Encapsulation in Python is achieved by restricting access to attributes and methods, effectively hiding the internal state of an object and preventing unintended modifications. Python uses naming conventions to suggest the level of access, rather than enforcing it with keywords like public, private, or protected as in some other languages.\n",
    "\n",
    "**Access Modifiers:-**\n",
    "\n",
    "\n",
    "* Public:\n",
    "Attributes and methods without any prefix are considered public and can be accessed from anywhere.\n",
    "\n",
    "* Protected:\n",
    "Attributes and methods prefixed with a single underscore _ are intended to be protected, suggesting they should only be accessed within the class and its subclasses. However, this is just a convention, and they can still be accessed from outside the class.\n",
    "\n",
    "* Private:\n",
    "Attributes and methods prefixed with double underscores __ are name-mangled by the interpreter. This makes them harder to access directly from outside the class, though it's still possible. This convention signals that these members are intended for internal use within the class."
   ]
  },
  {
   "cell_type": "markdown",
   "metadata": {
    "id": "YsCj3Xse3jVq"
   },
   "source": [
    "Que-9 What is a constructor in Python ?\n",
    "\n",
    "Ans- A constructor in Python is a special method, denoted by __init__, within a class that initializes the attributes of an object when it is created. It is automatically called when an instance of the class is instantiated. Constructors set up the initial state of objects by assigning values to their attributes or performing other setup actions.\n",
    "\n",
    "There are two types of constructors in Python:\n",
    "\n",
    "**Default Constructor:**\n",
    "This constructor takes only the self parameter (a reference to the instance being created). It is automatically provided if no constructor is explicitly defined.\n",
    "\n",
    "**Parameterized Constructor:**\n",
    "This constructor takes self and additional parameters to initialize the object's attributes with specific values provided during instantiation.\n"
   ]
  },
  {
   "cell_type": "markdown",
   "metadata": {
    "id": "Ab9kjjR04Gy3"
   },
   "source": [
    "Que-10 What are class and static methods in Python ?\n",
    "\n",
    "Ans- class and static methods are special types of methods bound to a class rather than an instance of the class. They serve different purposes and are defined using decorators.\n",
    "\n",
    "**Class Methods:**\n",
    "\n",
    "* They are defined using the @classmethod decorator.\n",
    "* They take the class itself as the first argument, conventionally named cls.\n",
    "* They can access and modify class-level attributes.\n",
    "* They are often used as factory methods for creating instances of the class or\n",
    "  for performing operations that relate to the class as a whole.\n",
    "* They can be called on the class itself or on an instance of the class.\n",
    "\n",
    "**Static Methods:**\n",
    "\n",
    "* They are defined using the @staticmethod decorator.\n",
    "* They do not take any special first argument (neither self nor cls).\n",
    "* They cannot access or modify class-level or instance-level attributes\n",
    "  directly.\n",
    "* They are essentially regular functions that are grouped within a class for organizational purposes.\n",
    "* They are often used for utility functions that do not depend on the state of\n",
    "  the class or its instances.\n",
    "* They can be called on the class itself or on an instance of the class.\n"
   ]
  },
  {
   "cell_type": "markdown",
   "metadata": {
    "id": "girBW47I4_8H"
   },
   "source": [
    "Que- 11 What is method overloading in Python ?\\\n",
    "\n",
    "Ans- Method overloading in Python refers to the possibility of defining multiple methods with the same name within a class, as long as their signatures (number and/or type of arguments) are different. However, Python does not directly support method overloading in the same way as some other languages like Java or C++. In Python, if you define multiple methods with the same name, the last definition will override the previous ones.\n",
    "\n",
    "To achieve a similar effect of method overloading in Python, you can use techniques like default arguments, variable-length arguments (*args and **kwargs), or conditional logic within a single method to handle different cases based on the input arguments.\n"
   ]
  },
  {
   "cell_type": "code",
   "execution_count": null,
   "metadata": {
    "colab": {
     "base_uri": "https://localhost:8080/"
    },
    "id": "oDRgTbN7tYxv",
    "outputId": "39356135-afdf-47bc-b81d-e90d07c76859"
   },
   "outputs": [
    {
     "name": "stdout",
     "output_type": "stream",
     "text": [
      "5\n",
      "15\n",
      "30\n"
     ]
    }
   ],
   "source": [
    "class Calculator:\n",
    "    def add(self, a, b=None, c=None):\n",
    "        if b is not None and c is not None:\n",
    "            return a + b + c\n",
    "        elif b is not None:\n",
    "            return a + b\n",
    "        else:\n",
    "            return a\n",
    "\n",
    "calc = Calculator()\n",
    "print(calc.add(5))\n",
    "print(calc.add(5, 10))\n",
    "print(calc.add(5, 10, 15))"
   ]
  },
  {
   "cell_type": "markdown",
   "metadata": {
    "id": "RtrmfHQ_5sKi"
   },
   "source": [
    "In the Calculator class, the add method is defined to handle different numbers of arguments. If only one argument is provided, it returns that value. If two arguments are provided, it returns their sum. If three arguments are provided, it returns their sum. This approach allows for flexibility in calling the method with varying numbers of arguments, simulating the behavior of method overloading."
   ]
  },
  {
   "cell_type": "markdown",
   "metadata": {
    "id": "GH6Mq0s-5tru"
   },
   "source": [
    "Que-12 What is method overriding in OOP ?\n",
    "\n",
    "Ans- In Object-Oriented Programming (OOP), method overriding allows a subclass to provide a specific implementation for a method that is already defined in its superclass (or parent class). This enables the subclass to modify or extend the behavior of the inherited method, while maintaining the same method signature (name, parameters, and return type).\n",
    "\n",
    "**Here's a more detailed explanation:**\n",
    "\n",
    "**Inheritance:**\n",
    "Method overriding is a core concept within the inheritance mechanism, where subclasses inherit properties and methods from their superclasses.\n",
    "Specialized Behavior:\n",
    "When a subclass overrides a method, it's essentially providing a customized version of that behavior, tailored to the specific needs of the subclass.\n",
    "\n",
    "**Same Signature:**\n",
    "The overridden method in the subclass must have the same name, number, and type of parameters as the method in the superclass.\n",
    "\n",
    "**Runtime Polymorphism:**\n",
    "Method overriding is a form of runtime polymorphism, where the actual method that's called is determined at runtime based on the object's type.\n",
    "\n",
    "**Example:**\n",
    "Imagine you have a Vehicle class with a start() method. A Car class (which inherits from Vehicle) might override the start() method to add specific functionality for starting a car (like checking the engine or turning on the ignition).\n"
   ]
  },
  {
   "cell_type": "markdown",
   "metadata": {
    "id": "b4YLDiso7F5l"
   },
   "source": [
    "Que- 13 What is a property decorator in Python ?\n",
    "\n",
    "Ans- A property decorator is a built-in feature that allows methods to be accessed like attributes. It provides a way to encapsulate the logic for getting, setting, and deleting an attribute within a class, while still allowing access to it using the dot notation. This mechanism enables controlled access and modification of class attributes, promoting cleaner and more maintainable code.\n",
    "\n",
    "The @property decorator is used to define the \"getter\" method, which is called when the attribute is accessed. Optionally, you can define \"setter\" and \"deleter\" methods using @attribute.setter and @attribute.deleter decorators respectively, to control how the attribute is modified or deleted."
   ]
  },
  {
   "cell_type": "markdown",
   "metadata": {
    "id": "Z3db5puO7gQA"
   },
   "source": [
    "Que-14 Why is polymorphism important in OOP ?\n",
    "\n",
    "Polymorphism is a fundamental concept in object-oriented programming (OOP) that enables objects to take on multiple forms. It allows a single interface to represent different underlying data types, facilitating flexibility and extensibility in code design.\n",
    "\n",
    "**Why Polymorphism Matters in OOP** :\n",
    "\n",
    "**Code Reusability and Efficiency**\n",
    "\n",
    "Polymorphism allows developers to write general code that works with objects of different types, reducing redundancy. For instance, a function can operate on a superclass type, and any subclass instance can be passed to it, promoting code reuse and efficiency.\n",
    "Informa TechTarget\n",
    "\n",
    "**Simplified Code Maintenance**\n",
    "\n",
    "By using polymorphism, changes to specific classes don't necessitate alterations in code that uses the general interface, making maintenance easier and reducing the risk of errors.\n",
    "All posts\n",
    "\n",
    "**Enhanced Flexibility and Scalability**\n",
    "\n",
    "Polymorphism supports the addition of new classes with minimal changes to existing code. This extensibility is crucial for scaling applications and adapting to new requirements.\n",
    "Stack Overflow\n",
    "\n",
    "**Improved Abstraction**\n",
    "\n",
    "It allows programmers to focus on high-level design by interacting with objects through common interfaces, without needing to understand their specific implementations.\n",
    "Reddit\n",
    "\n",
    "\n",
    "\n",
    "\n",
    "\n"
   ]
  },
  {
   "cell_type": "markdown",
   "metadata": {
    "id": "tq3AChBt8l5P"
   },
   "source": [
    "Que- 15 What is an abstract class in Python ?\n",
    "\n",
    "Ans- An abstract class serves as a blueprint for other classes, defining methods that subclasses must implement. It cannot be instantiated directly and is created using the abc module and the @abstractmethod decorator. Abstract classes ensure a consistent interface among related classes, promoting code reusability and maintainability.\n",
    "\n",
    "An abstract class may contain abstract methods, which are declared but lack implementation. Subclasses inheriting from the abstract class must provide concrete implementations for these abstract methods. This mechanism enforces a contract, guaranteeing that specific functionalities are available in all derived classes.\n"
   ]
  },
  {
   "cell_type": "code",
   "execution_count": null,
   "metadata": {
    "colab": {
     "base_uri": "https://localhost:8080/"
    },
    "id": "9EDz239GmBvF",
    "outputId": "7492deb1-3c2a-4892-846b-02dafec958c6"
   },
   "outputs": [
    {
     "name": "stdout",
     "output_type": "stream",
     "text": [
      "Circle area: 78.5\n",
      "Square area: 16\n"
     ]
    }
   ],
   "source": [
    "\n",
    "\n",
    "from abc import ABC, abstractmethod\n",
    "\n",
    "class Shape(ABC):\n",
    "    @abstractmethod\n",
    "    def area(self):\n",
    "        pass\n",
    "\n",
    "class Circle(Shape):\n",
    "    def __init__(self, radius):\n",
    "        self.radius = radius\n",
    "\n",
    "    def area(self):\n",
    "        return 3.14 * self.radius * self.radius\n",
    "\n",
    "class Square(Shape):\n",
    "    def __init__(self, side):\n",
    "        self.side = side\n",
    "\n",
    "    def area(self):\n",
    "        return self.side * self.side\n",
    "\n",
    "# Attempting to instantiate Shape would result in a TypeError\n",
    "# shape = Shape()  # This line would raise an error\n",
    "\n",
    "circle = Circle(5)\n",
    "square = Square(4)\n",
    "\n",
    "print(f\"Circle area: {circle.area()}\")\n",
    "print(f\"Square area: {square.area()}\")"
   ]
  },
  {
   "cell_type": "markdown",
   "metadata": {
    "id": "Xm08sSkS9aVO"
   },
   "source": [
    "n this example, Shape is an abstract class with an abstract method area. Circle and Square are concrete subclasses that inherit from Shape and implement the area method. Attempting to create an instance of Shape directly would raise a TypeError, reinforcing its role as a blueprint rather than a usable object."
   ]
  },
  {
   "cell_type": "markdown",
   "metadata": {
    "id": "UKITvi_sUJMP"
   },
   "source": [
    "Que- 16 What are the advantages of OOP ?\n",
    "\n",
    "Ans- Object-Oriented Programming (OOP) offers several advantages, including enhanced code organization, increased reusability, and improved maintainability. OOP promotes a modular approach, making code easier to understand, debug, and modify. It also allows for code reuse through inheritance, reducing redundancy and increasing development efficiency. Additionally, OOP's features like encapsulation and abstraction contribute to better security and problem-solving capabilities.\n",
    "\n",
    "Advantages of OOP (Object-Oriented Programming):\n",
    "\n",
    "1. **Modularity**\n",
    "\n",
    " Code is organized into objects (classes), making it easier to manage, understand, and update.\n",
    "\n",
    "\n",
    "2. **Reusability**\n",
    "\n",
    "  Classes can be reused across projects through inheritance, saving development time.\n",
    "\n",
    "\n",
    "3. **Encapsulation**\n",
    "  Data and methods are bundled together, hiding internal details and protecting data from outside interference.\n",
    "\n",
    "\n",
    "4. **Inheritance**\n",
    "\n",
    "  New classes can inherit features from existing classes, promoting code reuse and logical hierarchy.\n",
    "\n",
    "5. **Polymorphism**\n",
    "\n",
    "  Same operation can behave differently on different classes, making the code flexible and dynamic.\n",
    "\n",
    "6. **Scalability and Maintainability**\n",
    "\n",
    "  OOP systems are easier to scale and maintain due to clear structure and separation of concerns.\n",
    "\n",
    "7. **Real-world modeling**\n",
    "  \n",
    "  It closely maps code to real-world entities, making the design more intuitive.\n",
    "\n",
    "8. **Improved collaboration**\n",
    "\n",
    "  In team environments, modular and object-based design allows parallel development and easier debugging.\n"
   ]
  },
  {
   "cell_type": "markdown",
   "metadata": {
    "id": "jvsNobdmWvmq"
   },
   "source": [
    "Que- 17 What is the difference between a class variable and an instance variable ?\n",
    "\n",
    "Ans- **Class Variables (Static Variables):**\n",
    "\n",
    "\n",
    "*  Defined at the class level (outside any methods) and typically using the static keyword (in languages like Java).\n",
    "*  Share a single copy across all instances of the class.\n",
    "*  Can be accessed directly using the class name (e.g., MyClass.myVariable).\n",
    "*  Used for shared data, constants, or when you need a single copy for all instances.\n",
    "\n",
    "**Instance Variables:**\n",
    "\n",
    "* Defined at the instance level within a class (typically within the constructor or methods).\n",
    "* Each instance (object) of the class has its own separate copy of the instance variable.\n",
    "* Accessed using an object reference (e.g., myObject.myVariable).\n",
    "* Used to store unique data specific to each object, like properties or characteristics of that particular instance.\n",
    "\n",
    "\n",
    "\n"
   ]
  },
  {
   "cell_type": "markdown",
   "metadata": {
    "id": "bzFGNFL1YDJi"
   },
   "source": [
    "Que- 18 What is multiple inheritance in Python ?\n",
    "\n",
    "Ans- Multiple inheritance in Python is a feature where a class can inherit attributes and methods from multiple parent classes. This allows for the creation of complex class hierarchies and the reuse of code across different parts of an application. When a class inherits from multiple parent classes, it gains all the attributes and methods of those parent classes. If there are methods with the same name in multiple parent classes, the method from the class listed first in the inheritance list of the child class will be used.\n"
   ]
  },
  {
   "cell_type": "code",
   "execution_count": null,
   "metadata": {
    "colab": {
     "base_uri": "https://localhost:8080/"
    },
    "id": "lDHZYEaS9WoE",
    "outputId": "a7d163dc-168c-4c75-b1e8-b995dbf6a3c8"
   },
   "outputs": [
    {
     "name": "stdout",
     "output_type": "stream",
     "text": [
      "Engine started, Wheels rotating, Car is moving\n"
     ]
    }
   ],
   "source": [
    "class Engine:\n",
    "    def start(self):\n",
    "        return \"Engine started\"\n",
    "\n",
    "class Wheels:\n",
    "    def rotate(self):\n",
    "        return \"Wheels rotating\"\n",
    "\n",
    "class Car(Engine, Wheels):\n",
    "    def drive(self):\n",
    "        return f\"{self.start()}, {self.rotate()}, Car is moving\"\n",
    "\n",
    "my_car = Car()\n",
    "print(my_car.drive())"
   ]
  },
  {
   "cell_type": "markdown",
   "metadata": {
    "id": "RdnS32gCZQpx"
   },
   "source": [
    "Que- 19\n",
    "\n",
    "Ans- the __str__ and __repr__ methods are special methods used to define how objects are represented as strings. They serve different purposes:\n",
    "* __str__(self): This method is intended to return a human-readable, informal\n",
    "\n",
    "  string representation of an object. It is called by the built-in str() function and implicitly when using print() on an object. The goal of __str__ is to provide a user-friendly output.\n",
    "* __repr__(self): This method is intended to return an unambiguous, formal string representation of an object. It is called by the built-in repr() function and is used for debugging, logging, and when an object is displayed in the interactive interpreter. Ideally, the string returned by __repr__ should be able to recreate the object using eval().\n",
    "\n",
    " In essence, __str__ is for the end-user, while __repr__ is for developers. If __str__ is not defined for a class, Python will fall back to using __repr__ when str() is called. However, if __repr__ is not defined, there is no fallback for repr(). It's generally recommended to always define __repr__ for your classes to provide a useful representation for debugging purposes. Defining __str__ is optional but recommended if you want a more user-friendly output when printing objects."
   ]
  },
  {
   "cell_type": "code",
   "execution_count": null,
   "metadata": {
    "colab": {
     "base_uri": "https://localhost:8080/"
    },
    "id": "caLcNA5CY2Nr",
    "outputId": "bf71b7ad-a3e8-4e5d-a011-b3fd1e286108"
   },
   "outputs": [
    {
     "name": "stdout",
     "output_type": "stream",
     "text": [
      "MyClass(name=example, value=42)\n",
      "MyClass('example', 42)\n"
     ]
    }
   ],
   "source": [
    "class MyClass:\n",
    "    def __init__(self, name, value):\n",
    "        self.name = name\n",
    "        self.value = value\n",
    "\n",
    "    def __str__(self):\n",
    "        return f\"MyClass(name={self.name}, value={self.value})\"\n",
    "\n",
    "    def __repr__(self):\n",
    "        return f\"MyClass('{self.name}', {self.value})\"\n",
    "\n",
    "obj = MyClass(\"example\", 42)\n",
    "\n",
    "print(str(obj))  # Output: MyClass(name=example, value=42)\n",
    "print(repr(obj)) # Output: MyClass('example', 42)"
   ]
  },
  {
   "cell_type": "markdown",
   "metadata": {
    "id": "LA7VYVk6Z-rM"
   },
   "source": [
    "Que- 20 What is the significance of the ‘super()’ function in Python ?\n",
    "\n",
    "Ans- The super() function in Python is used to call methods from a parent class within a child class. It is particularly useful in the context of inheritance, allowing a subclass to extend or modify the behavior of its superclass while still leveraging the superclass's functionality.\n",
    "\n",
    "Key Benefits and Uses\n",
    "\n",
    "Method Overriding and Extension:\n",
    "\n",
    "super() enables a subclass to override a method of its superclass and then call the original method from within the overridden version. This allows for extending the functionality of the inherited method without completely replacing it.\n",
    "\n",
    "Initialization of Parent Classes:\n",
    "\n",
    "When a subclass has its own __init__ method, super() is used to call the __init__ method of the parent class, ensuring that the parent class's attributes are properly initialized.\n",
    "\n",
    "Avoiding Explicit Referencing:\n",
    "\n",
    "super() avoids the need to explicitly name the parent class, making the code more maintainable and adaptable to changes in the inheritance hierarchy.\n",
    "\n",
    "Handling Multiple Inheritance:\n",
    "\n",
    "In multiple inheritance scenarios, super() ensures that methods are called in the correct order, following the method resolution order (MRO) defined by the class hierarchy.\n",
    "\n",
    "**How it Works**\n",
    "\n",
    "The super() function returns a proxy object that represents the parent class. Methods can then be called on this proxy object, which will be dispatched to the appropriate method in the parent class based on the MRO.\n",
    "\n"
   ]
  },
  {
   "cell_type": "code",
   "execution_count": null,
   "metadata": {
    "colab": {
     "base_uri": "https://localhost:8080/"
    },
    "id": "v0mtoDeJZ6AM",
    "outputId": "3f541e51-79d7-413f-b200-d2a9de186dcf"
   },
   "outputs": [
    {
     "name": "stdout",
     "output_type": "stream",
     "text": [
      "Parent: Name is Alice\n",
      "Child: Age is 10\n"
     ]
    }
   ],
   "source": [
    "class Parent:\n",
    "    def __init__(self, name):\n",
    "        self.name = name\n",
    "\n",
    "    def display(self):\n",
    "        print(f\"Parent: Name is {self.name}\")\n",
    "\n",
    "class Child(Parent):\n",
    "    def __init__(self, name, age):\n",
    "        super().__init__(name)  # Initialize parent's name attribute\n",
    "        self.age = age\n",
    "\n",
    "    def display(self):\n",
    "        super().display()  # Call parent's display method\n",
    "        print(f\"Child: Age is {self.age}\")\n",
    "\n",
    "# Create an instance of the Child class\n",
    "child = Child(\"Alice\", 10)\n",
    "child.display()"
   ]
  },
  {
   "cell_type": "markdown",
   "metadata": {
    "id": "3xWS7_h5N--x"
   },
   "source": [
    "Que-21 What is the significance of the __del__ method in Python ?\n",
    "\n",
    "Ans-The __del__ method in Python is a destructor—a special method that is called when an object is about to be destroyed (i.e., when its reference count reaches zero).\n",
    "\n",
    "1. Significance of __del__:\n",
    "Resource Cleanup:\n",
    "It allows you to define cleanup actions, such as closing files, releasing network connections, or freeing up other resources when the object is no longer in use.\n"
   ]
  },
  {
   "cell_type": "code",
   "execution_count": 1,
   "metadata": {
    "id": "m0GqxPdBaki7"
   },
   "outputs": [],
   "source": [
    "class FileHandler:\n",
    "    def __init__(self, filename):\n",
    "        self.file = open(filename, 'r')\n",
    "\n",
    "    def __del__(self):\n",
    "        print(\"Closing file\")\n",
    "        self.file.close()"
   ]
  },
  {
   "cell_type": "markdown",
   "metadata": {
    "id": "B4S46TAwPmgD"
   },
   "source": [
    "2. Called Automatically:\n",
    "Python calls __del__ automatically when an object is garbage collected. However, timing is not guaranteed, especially in environments with circular references or when using CPython vs. other interpreters.\n",
    "\n",
    "3. Should Be Used with Caution:\n",
    "\n",
    "If __del__ raises an exception, it is ignored but logged.\n",
    "\n",
    "It can delay object collection, especially with circular references.\n",
    "\n",
    "It may not run at all if the interpreter is shutting down."
   ]
  },
  {
   "cell_type": "markdown",
   "metadata": {
    "id": "wgFr36WNP-J8"
   },
   "source": [
    "Que-22 What is the difference between @staticmethod and @classmethod in Python ?\n",
    "\n",
    "Ans- The core difference between @staticmethod and @classmethod lies in their interaction with the class and its instances.\n",
    "\n",
    "**@staticmethod :**\n",
    "\n",
    "This decorator creates a method that is essentially a regular function within the class's namespace. It does not receive the class or instance as an implicit first argument. It cannot access or modify the class or instance state. It is used for utility functions logically related to the class.\n",
    "\n",
    "**@classmethod :**\n",
    "\n",
    "This decorator creates a method that receives the class itself as the first argument, conventionally named cls. It can access and modify class-level attributes and methods. It is often used for factory methods or when needing to operate on the class itself rather than a specific instance.\n"
   ]
  },
  {
   "cell_type": "markdown",
   "metadata": {
    "id": "0TP1cAqiQtJq"
   },
   "source": [
    "Que- 23 How does polymorphism work in Python with inheritance ?\n",
    "\n",
    "Ans- Polymorphism, meaning \"many forms,\" enables objects of different classes to respond to the same method call in their own specific ways. When combined with inheritance in Python, polymorphism allows a child class to redefine a method from its parent class, a process known as method overriding. This allows for specialized behavior in subclasses while maintaining a common interface.\n",
    "\n",
    "For example, consider a base class Animal with a method speak(). Subclasses like Dog and Cat can override the speak() method to produce different outputs, \"Woof!\" and \"Meow!\" respectively. When a function calls the speak() method on an object, the actual method executed depends on the object's class, demonstrating polymorphism.\n"
   ]
  },
  {
   "cell_type": "code",
   "execution_count": 2,
   "metadata": {
    "colab": {
     "base_uri": "https://localhost:8080/"
    },
    "id": "3Ea9e99lPawE",
    "outputId": "3e5ac1c3-54f8-490a-b35e-0898361f40e8"
   },
   "outputs": [
    {
     "name": "stdout",
     "output_type": "stream",
     "text": [
      "Woof!\n",
      "Meow!\n",
      "Generic animal sound\n"
     ]
    }
   ],
   "source": [
    "class Animal:\n",
    "    def speak(self):\n",
    "        print(\"Generic animal sound\")\n",
    "\n",
    "class Dog(Animal):\n",
    "    def speak(self):\n",
    "        print(\"Woof!\")\n",
    "\n",
    "class Cat(Animal):\n",
    "    def speak(self):\n",
    "        print(\"Meow!\")\n",
    "\n",
    "def animal_sound(animal):\n",
    "    animal.speak()\n",
    "\n",
    "my_dog = Dog()\n",
    "my_cat = Cat()\n",
    "my_animal = Animal()\n",
    "\n",
    "animal_sound(my_dog)    # Output: Woof!\n",
    "animal_sound(my_cat)    # Output: Meow!\n",
    "animal_sound(my_animal) # Output: Generic animal sound"
   ]
  },
  {
   "cell_type": "markdown",
   "metadata": {
    "id": "wGYKzS0ARa5S"
   },
   "source": [
    "Que- 24 What is method chaining in Python OOP ?\n",
    "\n",
    "Ans- Method chaining in Python is a programming technique used in object-oriented programming where multiple methods are called sequentially on the same object in a single statement. This is achieved by having each method in the sequence return the object instance (self) after performing its operation.\n",
    "\n",
    "To implement method chaining, each method in the class should return self. This allows the next method in the chain to be called immediately after the previous one.\n"
   ]
  },
  {
   "cell_type": "code",
   "execution_count": 3,
   "metadata": {
    "colab": {
     "base_uri": "https://localhost:8080/"
    },
    "id": "jCzDx9meSCfQ",
    "outputId": "ebae18af-8a85-4138-cafe-f90dd9adf264"
   },
   "outputs": [
    {
     "name": "stdout",
     "output_type": "stream",
     "text": [
      "24\n"
     ]
    }
   ],
   "source": [
    "class Calculator:\n",
    "    def __init__(self, value=0):\n",
    "        self.value = value\n",
    "\n",
    "    def add(self, num):\n",
    "        self.value += num\n",
    "        return self\n",
    "\n",
    "    def subtract(self, num):\n",
    "        self.value -= num\n",
    "        return self\n",
    "\n",
    "    def multiply(self, num):\n",
    "        self.value *= num\n",
    "        return self\n",
    "\n",
    "    def get_value(self):\n",
    "        return self.value\n",
    "\n",
    "# Usage\n",
    "calc = Calculator(10)\n",
    "result = calc.add(5).subtract(3).multiply(2).get_value()\n",
    "print(result)  # Output: 24"
   ]
  },
  {
   "cell_type": "markdown",
   "metadata": {
    "id": "4TnHp91USIP4"
   },
   "source": [
    "In this example, add, subtract, and multiply methods all return self, allowing them to be chained together. The get_value method is called at the end to retrieve the final result."
   ]
  },
  {
   "cell_type": "markdown",
   "metadata": {
    "id": "NsHFe2sISVNS"
   },
   "source": [
    "Que-25 What is the purpose of the __call__ method in Python ?\n",
    "\n",
    "Ans- The __call__ method in Python enables instances of a class to be called as if they were functions. When an object is called (e.g., obj()), Python automatically invokes the __call__ method defined within the object's class. This mechanism facilitates the creation of objects that behave like functions, offering a flexible approach to code design."
   ]
  },
  {
   "cell_type": "code",
   "execution_count": 5,
   "metadata": {
    "colab": {
     "base_uri": "https://localhost:8080/"
    },
    "id": "unVeBDwRSDEM",
    "outputId": "3a6f2c29-2608-456e-fa0b-93c4cc27c96a"
   },
   "outputs": [
    {
     "name": "stdout",
     "output_type": "stream",
     "text": [
      "50\n"
     ]
    }
   ],
   "source": [
    "class Example:\n",
    "    def __init__(self, value):\n",
    "        self.value = value\n",
    "\n",
    "    def __call__(self, x):\n",
    "        return self.value * x\n",
    "\n",
    "instance = Example(5)\n",
    "result = instance(10)  # Equivalent to instance.__call__(10)\n",
    "print(result)"
   ]
  },
  {
   "cell_type": "markdown",
   "metadata": {
    "id": "4A-CoYU3SuoA"
   },
   "source": [
    "In this example, instance is an object of the Example class. Due to the __call__ method, instance can be called like a function, and the call instance(10) executes the code within __call__, returning 50."
   ]
  },
  {
   "cell_type": "markdown",
   "metadata": {
    "id": "IwrPxpQgTn1l"
   },
   "source": [
    "**Assignment Questions**"
   ]
  },
  {
   "cell_type": "markdown",
   "metadata": {
    "id": "vgg59y_9TsWo"
   },
   "source": [
    "1.Create a parent class Animal with a method speak() that prints a generic message. Create a child class Dog\n",
    "that overrides the speak() method to print \"Bark!\"."
   ]
  },
  {
   "cell_type": "code",
   "execution_count": 7,
   "metadata": {
    "id": "-L-Dxd0NUnXa"
   },
   "outputs": [],
   "source": [
    "# Parent class\n",
    "class Animal:\n",
    "    def speak(self):\n",
    "        print(\"The animal makes a sound.\")\n",
    "\n",
    "# Child class\n",
    "class Dog(Animal):\n",
    "    def speak(self):\n",
    "        print(\"Bark!\")"
   ]
  },
  {
   "cell_type": "code",
   "execution_count": 8,
   "metadata": {
    "colab": {
     "base_uri": "https://localhost:8080/"
    },
    "id": "NJ5_st0lUvNi",
    "outputId": "e61b1594-0d26-4706-ba86-5511424d1170"
   },
   "outputs": [
    {
     "name": "stdout",
     "output_type": "stream",
     "text": [
      "The animal makes a sound.\n"
     ]
    }
   ],
   "source": [
    "# Example usage\n",
    "generic_animal = Animal()\n",
    "generic_animal.speak()"
   ]
  },
  {
   "cell_type": "code",
   "execution_count": 9,
   "metadata": {
    "colab": {
     "base_uri": "https://localhost:8080/"
    },
    "id": "jzP5d_V6VBCK",
    "outputId": "17ec3e71-bc73-4a54-b1b8-741a9cac0c1f"
   },
   "outputs": [
    {
     "name": "stdout",
     "output_type": "stream",
     "text": [
      "Bark!\n"
     ]
    }
   ],
   "source": [
    "dog = Dog()\n",
    "dog.speak()"
   ]
  },
  {
   "cell_type": "markdown",
   "metadata": {
    "id": "d2DdNPTAVlsN"
   },
   "source": [
    "2. Write a program to create an abstract class Shape with a method area(). Derive classes Circle and Rectangle\n",
    "from it and implement the area() method in both.\n",
    "\n",
    " Python program using the abc module to define an abstract class Shape with an abstract method area(). The classes Circle and Rectangle inherit from Shape and implement the area"
   ]
  },
  {
   "cell_type": "code",
   "execution_count": 10,
   "metadata": {
    "id": "AqEWHZUlVIBF"
   },
   "outputs": [],
   "source": [
    "from abc import ABC, abstractmethod\n",
    "import math\n",
    "\n",
    "# Abstract class\n",
    "class Shape(ABC):\n",
    "    @abstractmethod\n",
    "    def area(self):\n",
    "        pass\n",
    "\n",
    "# Derived class: Circle\n",
    "class Circle(Shape):\n",
    "    def __init__(self, radius):\n",
    "        self.radius = radius\n",
    "\n",
    "    def area(self):\n",
    "        return math.pi * self.radius ** 2\n",
    "\n",
    "# Derived class: Rectangle\n",
    "class Rectangle(Shape):\n",
    "    def __init__(self, width, height):\n",
    "        self.width = width\n",
    "        self.height = height\n",
    "\n",
    "    def area(self):\n",
    "        return self.width * self.height"
   ]
  },
  {
   "cell_type": "code",
   "execution_count": 11,
   "metadata": {
    "colab": {
     "base_uri": "https://localhost:8080/"
    },
    "id": "utOF-imHV1Os",
    "outputId": "e32e021f-ea1b-4cc3-e87f-8161a8c2300e"
   },
   "outputs": [
    {
     "name": "stdout",
     "output_type": "stream",
     "text": [
      "Circle area: 78.54\n"
     ]
    }
   ],
   "source": [
    "# Example usage\n",
    "circle = Circle(5)\n",
    "print(f\"Circle area: {circle.area():.2f}\")"
   ]
  },
  {
   "cell_type": "code",
   "execution_count": 13,
   "metadata": {
    "colab": {
     "base_uri": "https://localhost:8080/"
    },
    "id": "4-KaAOD2V4OY",
    "outputId": "145d4273-b140-4a9d-9403-d84466d170b8"
   },
   "outputs": [
    {
     "name": "stdout",
     "output_type": "stream",
     "text": [
      "Rectangle area: 24\n"
     ]
    }
   ],
   "source": [
    "rectangle = Rectangle(4, 6)\n",
    "print(f\"Rectangle area: {rectangle.area()}\")"
   ]
  },
  {
   "cell_type": "markdown",
   "metadata": {
    "id": "LVfJndQNj4M_"
   },
   "source": [
    "3. Implement a multi-level inheritance scenario where a class Vehicle has an attribute type. Derive a class Car\n",
    "and further derive a class ElectricCar that adds a battery attribute."
   ]
  },
  {
   "cell_type": "code",
   "execution_count": 1,
   "metadata": {
    "colab": {
     "base_uri": "https://localhost:8080/"
    },
    "id": "d0V1v-72V7MI",
    "outputId": "6f45147b-c0d8-4ba3-8e64-e708f882adde"
   },
   "outputs": [
    {
     "name": "stdout",
     "output_type": "stream",
     "text": [
      "Vehicle Type: Electric\n",
      "Brand: Tesla\n",
      "Battery Capacity: 75 kWh\n"
     ]
    }
   ],
   "source": [
    "# Base class\n",
    "class Vehicle:\n",
    "    def __init__(self, vehicle_type):\n",
    "        self.type = vehicle_type\n",
    "\n",
    "    def display_info(self):\n",
    "        print(f\"Vehicle Type: {self.type}\")\n",
    "\n",
    "# First level of inheritance\n",
    "class Car(Vehicle):\n",
    "    def __init__(self, vehicle_type, brand):\n",
    "        super().__init__(vehicle_type)\n",
    "        self.brand = brand\n",
    "\n",
    "    def display_info(self):\n",
    "        super().display_info()\n",
    "        print(f\"Brand: {self.brand}\")\n",
    "\n",
    "# Second level of inheritance\n",
    "class ElectricCar(Car):\n",
    "    def __init__(self, vehicle_type, brand, battery_capacity):\n",
    "        super().__init__(vehicle_type, brand)\n",
    "        self.battery = battery_capacity\n",
    "\n",
    "    def display_info(self):\n",
    "        super().display_info()\n",
    "        print(f\"Battery Capacity: {self.battery} kWh\")\n",
    "\n",
    "# Example usage\n",
    "ecar = ElectricCar(\"Electric\", \"Tesla\", 75)\n",
    "ecar.display_info()"
   ]
  },
  {
   "cell_type": "markdown",
   "metadata": {
    "id": "7IDVaknOt3Hh"
   },
   "source": [
    "4. Demonstrate polymorphism by creating a base class Bird with a method fly(). Create two derived classes\n",
    "Sparrow and Penguin that override the fly() method.\n"
   ]
  },
  {
   "cell_type": "code",
   "execution_count": 2,
   "metadata": {
    "colab": {
     "base_uri": "https://localhost:8080/"
    },
    "id": "JlD4t2PBtnlp",
    "outputId": "11f1a764-aa7a-4586-c26f-d6fa0159ef73"
   },
   "outputs": [
    {
     "name": "stdout",
     "output_type": "stream",
     "text": [
      "Sparrow flies high in the sky.\n",
      "Penguins cannot fly, they swim.\n"
     ]
    }
   ],
   "source": [
    "# Base class\n",
    "class Bird:\n",
    "    def fly(self):\n",
    "        print(\"This bird can fly.\")\n",
    "\n",
    "# Derived class Sparrow\n",
    "class Sparrow(Bird):\n",
    "    def fly(self):\n",
    "        print(\"Sparrow flies high in the sky.\")\n",
    "\n",
    "# Derived class Penguin\n",
    "class Penguin(Bird):\n",
    "    def fly(self):\n",
    "        print(\"Penguins cannot fly, they swim.\")\n",
    "\n",
    "# Polymorphism demonstration\n",
    "def show_flying_ability(bird):\n",
    "    bird.fly()\n",
    "\n",
    "# Example usage\n",
    "sparrow = Sparrow()\n",
    "penguin = Penguin()\n",
    "\n",
    "show_flying_ability(sparrow)\n",
    "show_flying_ability(penguin)"
   ]
  },
  {
   "cell_type": "markdown",
   "metadata": {
    "id": "4CkdsV8nuTdA"
   },
   "source": [
    "5. Write a program to demonstrate encapsulation by creating a class BankAccount with private attributes\n",
    "balance and methods to deposit, withdraw, and check balance.\n",
    "\n"
   ]
  },
  {
   "cell_type": "code",
   "execution_count": 3,
   "metadata": {
    "colab": {
     "base_uri": "https://localhost:8080/"
    },
    "id": "mqgzaUa1uMJH",
    "outputId": "f5005499-18ac-4461-ca16-6e71bcb6d161"
   },
   "outputs": [
    {
     "name": "stdout",
     "output_type": "stream",
     "text": [
      "Current Balance: $100\n",
      "Deposited: $50\n",
      "Withdrawn: $30\n",
      "Insufficient balance or invalid amount.\n",
      "Current Balance: $120\n"
     ]
    }
   ],
   "source": [
    "class BankAccount:\n",
    "    def __init__(self, initial_balance=0):\n",
    "        self.__balance = initial_balance  # Private attribute\n",
    "\n",
    "    def deposit(self, amount):\n",
    "        if amount > 0:\n",
    "            self.__balance += amount\n",
    "            print(f\"Deposited: ${amount}\")\n",
    "        else:\n",
    "            print(\"Deposit amount must be positive.\")\n",
    "\n",
    "    def withdraw(self, amount):\n",
    "        if 0 < amount <= self.__balance:\n",
    "            self.__balance -= amount\n",
    "            print(f\"Withdrawn: ${amount}\")\n",
    "        else:\n",
    "            print(\"Insufficient balance or invalid amount.\")\n",
    "\n",
    "    def check_balance(self):\n",
    "        print(f\"Current Balance: ${self.__balance}\")\n",
    "\n",
    "# Example usage\n",
    "account = BankAccount(100)  # Starting with $100\n",
    "account.check_balance()\n",
    "account.deposit(50)\n",
    "account.withdraw(30)\n",
    "account.withdraw(150)  # Should show an error\n",
    "account.check_balance()"
   ]
  },
  {
   "cell_type": "markdown",
   "metadata": {
    "id": "xCDyYR9VvJTF"
   },
   "source": [
    "6. Demonstrate runtime polymorphism using a method play() in a base class Instrument. Derive classes Guitar\n",
    "and Piano that implement their own version of play().\n"
   ]
  },
  {
   "cell_type": "code",
   "execution_count": 4,
   "metadata": {
    "colab": {
     "base_uri": "https://localhost:8080/"
    },
    "id": "ErTAz_FYu9sa",
    "outputId": "922e6d1d-de46-483d-89bf-8c7fc815aed6"
   },
   "outputs": [
    {
     "name": "stdout",
     "output_type": "stream",
     "text": [
      "Strumming the guitar.\n",
      "Playing the piano.\n"
     ]
    }
   ],
   "source": [
    "# Base class\n",
    "class Instrument:\n",
    "    def play(self):\n",
    "        print(\"Playing an instrument.\")\n",
    "\n",
    "# Derived class: Guitar\n",
    "class Guitar(Instrument):\n",
    "    def play(self):\n",
    "        print(\"Strumming the guitar.\")\n",
    "\n",
    "# Derived class: Piano\n",
    "class Piano(Instrument):\n",
    "    def play(self):\n",
    "        print(\"Playing the piano.\")\n",
    "\n",
    "# Function that demonstrates runtime polymorphism\n",
    "def start_performance(instrument):\n",
    "    instrument.play()\n",
    "\n",
    "# Example usage\n",
    "guitar = Guitar()\n",
    "piano = Piano()\n",
    "\n",
    "start_performance(guitar)\n",
    "start_performance(piano)"
   ]
  },
  {
   "cell_type": "markdown",
   "metadata": {
    "id": "TtGJblp1vklX"
   },
   "source": [
    "7. Create a class MathOperations with a class method add_numbers() to add two numbers and a static\n",
    "method subtract_numbers() to subtract two numbers.\n",
    "\n",
    "\n"
   ]
  },
  {
   "cell_type": "code",
   "execution_count": 5,
   "metadata": {
    "colab": {
     "base_uri": "https://localhost:8080/"
    },
    "id": "6SVMIAjfvbYG",
    "outputId": "6743a40e-b908-498a-f2d0-19091e69ce5e"
   },
   "outputs": [
    {
     "name": "stdout",
     "output_type": "stream",
     "text": [
      "Sum: 15\n",
      "Difference: 5\n"
     ]
    }
   ],
   "source": [
    "class MathOperations:\n",
    "    @classmethod\n",
    "    def add_numbers(cls, a, b):\n",
    "        return a + b\n",
    "\n",
    "    @staticmethod\n",
    "    def subtract_numbers(a, b):\n",
    "        return a - b\n",
    "\n",
    "# Example usage\n",
    "sum_result = MathOperations.add_numbers(10, 5)\n",
    "sub_result = MathOperations.subtract_numbers(10, 5)\n",
    "\n",
    "print(f\"Sum: {sum_result}\")\n",
    "print(f\"Difference: {sub_result}\")"
   ]
  },
  {
   "cell_type": "markdown",
   "metadata": {
    "id": "i3F7yUU1v0em"
   },
   "source": [
    "8. Implement a class Person with a class method to count the total number of persons created."
   ]
  },
  {
   "cell_type": "code",
   "execution_count": 6,
   "metadata": {
    "colab": {
     "base_uri": "https://localhost:8080/"
    },
    "id": "w_uWmA3UvzYK",
    "outputId": "258216e0-2998-4a37-ae10-9b5a31baac5c"
   },
   "outputs": [
    {
     "name": "stdout",
     "output_type": "stream",
     "text": [
      "Total persons created: 3\n"
     ]
    }
   ],
   "source": [
    "class Person:\n",
    "    count = 0  # Class variable to track number of persons\n",
    "\n",
    "    def __init__(self, name):\n",
    "        self.name = name\n",
    "        Person.count += 1  # Increment count when a new person is created\n",
    "\n",
    "    @classmethod\n",
    "    def total_persons(cls):\n",
    "        return cls.count\n",
    "\n",
    "# Example usage\n",
    "p1 = Person(\"Alice\")\n",
    "p2 = Person(\"Bob\")\n",
    "p3 = Person(\"Charlie\")\n",
    "\n",
    "print(f\"Total persons created: {Person.total_persons()}\")\n"
   ]
  },
  {
   "cell_type": "markdown",
   "metadata": {
    "id": "jhv1LvlywGsu"
   },
   "source": [
    "9. Write a class Fraction with attributes numerator and denominator. Override the str method to display the\n",
    "fraction as \"numerator/denominator\"."
   ]
  },
  {
   "cell_type": "code",
   "execution_count": 7,
   "metadata": {
    "colab": {
     "base_uri": "https://localhost:8080/"
    },
    "id": "lSmWsfinwEMz",
    "outputId": "41c8462d-5e29-4bcd-b5c1-8d16d3abc23d"
   },
   "outputs": [
    {
     "name": "stdout",
     "output_type": "stream",
     "text": [
      "Fraction 1: 3/4\n",
      "Fraction 2: 7/2\n"
     ]
    }
   ],
   "source": [
    "class Fraction:\n",
    "    def __init__(self, numerator, denominator):\n",
    "        if denominator == 0:\n",
    "            raise ValueError(\"Denominator cannot be zero.\")\n",
    "        self.numerator = numerator\n",
    "        self.denominator = denominator\n",
    "\n",
    "    def __str__(self):\n",
    "        return f\"{self.numerator}/{self.denominator}\"\n",
    "\n",
    "# Example usage\n",
    "f1 = Fraction(3, 4)\n",
    "f2 = Fraction(7, 2)\n",
    "\n",
    "print(f\"Fraction 1: {f1}\")\n",
    "print(f\"Fraction 2: {f2}\")\n"
   ]
  },
  {
   "cell_type": "markdown",
   "metadata": {
    "id": "GpvN8Vkfw1Bd"
   },
   "source": [
    "10. Demonstrate operator overloading by creating a class Vector and overriding the add method to add two\n",
    "vectors."
   ]
  },
  {
   "cell_type": "code",
   "execution_count": 8,
   "metadata": {
    "colab": {
     "base_uri": "https://localhost:8080/"
    },
    "id": "Ylvzregzwsqg",
    "outputId": "d215a71a-c4c9-4a24-f9a2-9236f954bed8"
   },
   "outputs": [
    {
     "name": "stdout",
     "output_type": "stream",
     "text": [
      "v1: Vector(2, 3)\n",
      "v2: Vector(4, 5)\n",
      "v1 + v2 = Vector(6, 8)\n"
     ]
    }
   ],
   "source": [
    "class Vector:\n",
    "    def __init__(self, x, y):\n",
    "        self.x = x\n",
    "        self.y = y\n",
    "\n",
    "    def __add__(self, other):\n",
    "        if not isinstance(other, Vector):\n",
    "            return NotImplemented\n",
    "        return Vector(self.x + other.x, self.y + other.y)\n",
    "\n",
    "    def __str__(self):\n",
    "        return f\"Vector({self.x}, {self.y})\"\n",
    "\n",
    "# Example usage\n",
    "v1 = Vector(2, 3)\n",
    "v2 = Vector(4, 5)\n",
    "v3 = v1 + v2\n",
    "\n",
    "print(f\"v1: {v1}\")\n",
    "print(f\"v2: {v2}\")\n",
    "print(f\"v1 + v2 = {v3}\")\n"
   ]
  },
  {
   "cell_type": "markdown",
   "metadata": {
    "id": "9qb8ApViw0ZJ"
   },
   "source": [
    "11. Create a class Person with attributes name and age. Add a method greet() that prints \"Hello, my name is\n",
    "{name} and I am {age} years old.\""
   ]
  },
  {
   "cell_type": "code",
   "execution_count": 9,
   "metadata": {
    "colab": {
     "base_uri": "https://localhost:8080/"
    },
    "id": "jTnPP9XSxz5l",
    "outputId": "f24c9653-bed9-40a5-f68e-abc4e89f284f"
   },
   "outputs": [
    {
     "name": "stdout",
     "output_type": "stream",
     "text": [
      "Hello, my name is Alice and I am 30 years old.\n"
     ]
    }
   ],
   "source": [
    "class Person:\n",
    "    def __init__(self, name, age):\n",
    "        self.name = name\n",
    "        self.age = age\n",
    "\n",
    "    def greet(self):\n",
    "        print(f\"Hello, my name is {self.name} and I am {self.age} years old.\")\n",
    "\n",
    "# Example usage\n",
    "p1 = Person(\"Alice\", 30)\n",
    "p1.greet()"
   ]
  },
  {
   "cell_type": "markdown",
   "metadata": {
    "id": "RvQguC2Kx-T9"
   },
   "source": [
    "12. Implement a class Student with attributes name and grades. Create a method average_grade() to compute\n",
    "the average of the grades."
   ]
  },
  {
   "cell_type": "code",
   "execution_count": 10,
   "metadata": {
    "colab": {
     "base_uri": "https://localhost:8080/"
    },
    "id": "jmHGg6Yhx4rI",
    "outputId": "686c8efe-37d6-4bd5-d5a1-ee344c355fce"
   },
   "outputs": [
    {
     "name": "stdout",
     "output_type": "stream",
     "text": [
      "John's average grade: 86.25\n"
     ]
    }
   ],
   "source": [
    "class Student:\n",
    "    def __init__(self, name, grades):\n",
    "        self.name = name\n",
    "        self.grades = grades  # Expecting a list of numbers\n",
    "\n",
    "    def average_grade(self):\n",
    "        if not self.grades:\n",
    "            return 0\n",
    "        return sum(self.grades) / len(self.grades)\n",
    "\n",
    "# Example usage\n",
    "s1 = Student(\"John\", [85, 90, 78, 92])\n",
    "average = s1.average_grade()\n",
    "\n",
    "print(f\"{s1.name}'s average grade: {average:.2f}\")\n"
   ]
  },
  {
   "cell_type": "markdown",
   "metadata": {
    "id": "FHBf2842yWGt"
   },
   "source": [
    "13. Create a class Rectangle with methods set_dimensions() to set the dimensions and area() to calculate the\n",
    "area."
   ]
  },
  {
   "cell_type": "code",
   "execution_count": 11,
   "metadata": {
    "colab": {
     "base_uri": "https://localhost:8080/"
    },
    "id": "99AwXf9DyPPn",
    "outputId": "256dba9b-d5e4-46e4-dfdb-f92cf272068e"
   },
   "outputs": [
    {
     "name": "stdout",
     "output_type": "stream",
     "text": [
      "Area of rectangle: 15\n"
     ]
    }
   ],
   "source": [
    "class Rectangle:\n",
    "    def __init__(self):\n",
    "        self.length = 0\n",
    "        self.width = 0\n",
    "\n",
    "    def set_dimensions(self, length, width):\n",
    "        if length <= 0 or width <= 0:\n",
    "            print(\"Length and width must be positive numbers.\")\n",
    "            return\n",
    "        self.length = length\n",
    "        self.width = width\n",
    "\n",
    "    def area(self):\n",
    "        return self.length * self.width\n",
    "\n",
    "# Example usage\n",
    "rect = Rectangle()\n",
    "rect.set_dimensions(5, 3)\n",
    "print(f\"Area of rectangle: {rect.area()}\")\n"
   ]
  },
  {
   "cell_type": "markdown",
   "metadata": {
    "id": "SlhYxVMKypGq"
   },
   "source": [
    "14. Create a class Employee with a method calculate_salary() that computes the salary based on hours worked\n",
    "and hourly rate. Create a derived class Manager that adds a bonus to the salary."
   ]
  },
  {
   "cell_type": "code",
   "execution_count": 12,
   "metadata": {
    "colab": {
     "base_uri": "https://localhost:8080/"
    },
    "id": "68jBui02yjuw",
    "outputId": "38834ff0-7802-40ca-9b07-41e35de79479"
   },
   "outputs": [
    {
     "name": "stdout",
     "output_type": "stream",
     "text": [
      "Alice's salary: $800\n",
      "Bob's salary: $1850\n"
     ]
    }
   ],
   "source": [
    "# Base class\n",
    "class Employee:\n",
    "    def __init__(self, name, hours_worked, hourly_rate):\n",
    "        self.name = name\n",
    "        self.hours_worked = hours_worked\n",
    "        self.hourly_rate = hourly_rate\n",
    "\n",
    "    def calculate_salary(self):\n",
    "        return self.hours_worked * self.hourly_rate\n",
    "\n",
    "# Derived class\n",
    "class Manager(Employee):\n",
    "    def __init__(self, name, hours_worked, hourly_rate, bonus):\n",
    "        super().__init__(name, hours_worked, hourly_rate)\n",
    "        self.bonus = bonus\n",
    "\n",
    "    def calculate_salary(self):\n",
    "        base_salary = super().calculate_salary()\n",
    "        return base_salary + self.bonus\n",
    "\n",
    "# Example usage\n",
    "emp = Employee(\"Alice\", 40, 20)\n",
    "mgr = Manager(\"Bob\", 45, 30, 500)\n",
    "\n",
    "print(f\"{emp.name}'s salary: ${emp.calculate_salary()}\")\n",
    "print(f\"{mgr.name}'s salary: ${mgr.calculate_salary()}\")\n"
   ]
  },
  {
   "cell_type": "markdown",
   "metadata": {
    "id": "Br-2zBNwzLKk"
   },
   "source": [
    "15. Create a class Product with attributes name, price, and quantity. Implement a method total_price() that\n",
    "calculates the total price of the product."
   ]
  },
  {
   "cell_type": "code",
   "execution_count": 13,
   "metadata": {
    "colab": {
     "base_uri": "https://localhost:8080/"
    },
    "id": "Wk13hTUwy-70",
    "outputId": "130b092f-00dd-4b91-d2ad-9077d933df1c"
   },
   "outputs": [
    {
     "name": "stdout",
     "output_type": "stream",
     "text": [
      "Total price for 3 Smartphone(s): $1500\n"
     ]
    }
   ],
   "source": [
    "class Product:\n",
    "    def __init__(self, name, price, quantity):\n",
    "        self.name = name\n",
    "        self.price = price    # Price per unit\n",
    "        self.quantity = quantity  # Number of units\n",
    "\n",
    "    def total_price(self):\n",
    "        return self.price * self.quantity\n",
    "\n",
    "# Example usage\n",
    "product1 = Product(\"Smartphone\", 500, 3)\n",
    "print(f\"Total price for {product1.quantity} {product1.name}(s): ${product1.total_price()}\")\n"
   ]
  },
  {
   "cell_type": "markdown",
   "metadata": {
    "id": "WF3MixoqzvXT"
   },
   "source": [
    "16. Create a class Animal with an abstract method sound(). Create two derived classes Cow and Sheep that\n",
    "implement the sound() method"
   ]
  },
  {
   "cell_type": "code",
   "execution_count": 14,
   "metadata": {
    "colab": {
     "base_uri": "https://localhost:8080/"
    },
    "id": "_n2c96xEzn7N",
    "outputId": "f807fcdd-1a89-4ef9-c2ff-ff809fb57757"
   },
   "outputs": [
    {
     "name": "stdout",
     "output_type": "stream",
     "text": [
      "Cow says: Moo\n",
      "Sheep says: Baa\n"
     ]
    }
   ],
   "source": [
    "from abc import ABC, abstractmethod\n",
    "\n",
    "# Abstract base class\n",
    "class Animal(ABC):\n",
    "    @abstractmethod\n",
    "    def sound(self):\n",
    "        pass\n",
    "\n",
    "# Derived class: Cow\n",
    "class Cow(Animal):\n",
    "    def sound(self):\n",
    "        return \"Moo\"\n",
    "\n",
    "# Derived class: Sheep\n",
    "class Sheep(Animal):\n",
    "    def sound(self):\n",
    "        return \"Baa\"\n",
    "\n",
    "# Example usage\n",
    "cow = Cow()\n",
    "sheep = Sheep()\n",
    "\n",
    "print(f\"Cow says: {cow.sound()}\")\n",
    "print(f\"Sheep says: {sheep.sound()}\")\n"
   ]
  },
  {
   "cell_type": "markdown",
   "metadata": {
    "id": "BMw-ISrW0a-V"
   },
   "source": [
    "17. Create a class Book with attributes title, author, and year_published. Add a method get_book_info() that\n",
    "returns a formatted string with the book's details."
   ]
  },
  {
   "cell_type": "code",
   "execution_count": 15,
   "metadata": {
    "colab": {
     "base_uri": "https://localhost:8080/"
    },
    "id": "cGt70Iix0FnS",
    "outputId": "a08956a7-7d46-4af4-c3ca-7b1ef3c1d87d"
   },
   "outputs": [
    {
     "name": "stdout",
     "output_type": "stream",
     "text": [
      "'1984' by George Orwell, published in 1949\n"
     ]
    }
   ],
   "source": [
    "class Book:\n",
    "    def __init__(self, title, author, year_published):\n",
    "        self.title = title\n",
    "        self.author = author\n",
    "        self.year_published = year_published\n",
    "\n",
    "    def get_book_info(self):\n",
    "        return f\"'{self.title}' by {self.author}, published in {self.year_published}\"\n",
    "\n",
    "# Example usage\n",
    "book1 = Book(\"1984\", \"George Orwell\", 1949)\n",
    "print(book1.get_book_info())"
   ]
  },
  {
   "cell_type": "markdown",
   "metadata": {
    "id": "RSNyQKxA08f3"
   },
   "source": [
    "18. Create a class House with attributes address and price. Create a derived class Mansion that adds an\n",
    "attribute number_of_rooms."
   ]
  },
  {
   "cell_type": "code",
   "execution_count": 16,
   "metadata": {
    "colab": {
     "base_uri": "https://localhost:8080/"
    },
    "id": "4ELP4oRl06IV",
    "outputId": "a1329666-140c-4e27-ff8c-5b893683f768"
   },
   "outputs": [
    {
     "name": "stdout",
     "output_type": "stream",
     "text": [
      "Address: 123 Luxury Lane, Price: $2500000, Rooms: 10\n"
     ]
    }
   ],
   "source": [
    "# Base class\n",
    "class House:\n",
    "    def __init__(self, address, price):\n",
    "        self.address = address\n",
    "        self.price = price\n",
    "\n",
    "    def get_info(self):\n",
    "        return f\"Address: {self.address}, Price: ${self.price}\"\n",
    "\n",
    "# Derived class\n",
    "class Mansion(House):\n",
    "    def __init__(self, address, price, number_of_rooms):\n",
    "        super().__init__(address, price)\n",
    "        self.number_of_rooms = number_of_rooms\n",
    "\n",
    "    def get_info(self):\n",
    "        return f\"{super().get_info()}, Rooms: {self.number_of_rooms}\"\n",
    "\n",
    "# Example usage\n",
    "mansion = Mansion(\"123 Luxury Lane\", 2500000, 10)\n",
    "print(mansion.get_info())"
   ]
  },
  {
   "cell_type": "markdown",
   "metadata": {
    "id": "-MRcNFy11cNG"
   },
   "source": [
    "19.Write a program that handles both IndexError and KeyError using a try-except block.\n"
   ]
  },
  {
   "cell_type": "code",
   "execution_count": 1,
   "metadata": {},
   "outputs": [
    {
     "name": "stdout",
     "output_type": "stream",
     "text": [
      "Accessing list element at index 5:\n",
      "IndexError occurred: list index out of range\n"
     ]
    }
   ],
   "source": [
    "# Sample list and dictionary\n",
    "my_list = [10, 20, 30]\n",
    "my_dict = {'apple': 1, 'banana': 2}\n",
    "\n",
    "try:\n",
    "    # Attempt to access an element at an invalid index\n",
    "    print(\"Accessing list element at index 5:\")\n",
    "    print(my_list[5])  # This will raise IndexError\n",
    "\n",
    "    # Attempt to access a non-existent key in the dictionary\n",
    "    print(\"Accessing dictionary value for key 'orange':\")\n",
    "    print(my_dict['orange'])  # This will raise KeyError\n",
    "\n",
    "except IndexError as ie:\n",
    "    print(f\"IndexError occurred: {ie}\")\n",
    "\n",
    "except KeyError as ke:\n",
    "    print(f\"KeyError occurred: {ke}\")"
   ]
  },
  {
   "cell_type": "markdown",
   "metadata": {},
   "source": [
    "20.How would you open a file and read its contents using a context manager in Python.\n"
   ]
  },
  {
   "cell_type": "markdown",
   "metadata": {},
   "source": [
    "To open a file and read its contents using a context manager in Python, you can utilize the with statement. This approach ensures that the file is properly closed after its suite finishes, even if an error occurs during file operations.\n",
    "\n",
    "Reading the Entire File\n",
    "\n",
    "Here's how you can read the entire contents of a file:"
   ]
  },
  {
   "cell_type": "code",
   "execution_count": 3,
   "metadata": {},
   "outputs": [
    {
     "name": "stdout",
     "output_type": "stream",
     "text": [
      "Hello, world!\n",
      "this is my first file.\n",
      "I'm beginner in python. This is a new line of text.\n",
      "\n"
     ]
    }
   ],
   "source": [
    "with open('new.txt', 'r') as file:\n",
    "    content = file.read()\n",
    "    print(content)"
   ]
  },
  {
   "cell_type": "markdown",
   "metadata": {},
   "source": [
    "Reading the File Line by Line\n",
    "\n",
    "For large files, it's more memory-efficient to read the file line by line:"
   ]
  },
  {
   "cell_type": "code",
   "execution_count": 4,
   "metadata": {},
   "outputs": [
    {
     "name": "stdout",
     "output_type": "stream",
     "text": [
      "Hello, world!\n",
      "this is my first file.\n",
      "I'm beginner in python. This is a new line of text.\n"
     ]
    }
   ],
   "source": [
    "with open('new.txt', 'r') as file:\n",
    "    for line in file:\n",
    "        print(line.strip())"
   ]
  },
  {
   "cell_type": "markdown",
   "metadata": {},
   "source": [
    "21. Write a Python program that reads a file and prints the number of occurrences of a specific word.\n"
   ]
  },
  {
   "cell_type": "markdown",
   "metadata": {},
   "source": [
    "22. How can you check if a file is empty before attempting to read its contents."
   ]
  },
  {
   "cell_type": "code",
   "execution_count": 6,
   "metadata": {},
   "outputs": [
    {
     "name": "stdout",
     "output_type": "stream",
     "text": [
      "The file does not exist.\n"
     ]
    }
   ],
   "source": [
    "#1. Using os.path.getsize()\n",
    "import os\n",
    "\n",
    "file_path = 'example.txt'\n",
    "\n",
    "if os.path.exists(file_path):\n",
    "    if os.path.getsize(file_path) == 0:\n",
    "        print(\"The file is empty.\")\n",
    "    else:\n",
    "        print(\"The file is not empty.\")\n",
    "else:\n",
    "    print(\"The file does not exist.\")\n"
   ]
  },
  {
   "cell_type": "markdown",
   "metadata": {},
   "source": [
    "2. Using os.stat().st_size\n",
    "\n",
    "Similar to the previous method, this approach retrieves the file size using os.stat().\n"
   ]
  },
  {
   "cell_type": "code",
   "execution_count": 7,
   "metadata": {},
   "outputs": [
    {
     "name": "stdout",
     "output_type": "stream",
     "text": [
      "The file does not exist.\n"
     ]
    }
   ],
   "source": [
    "import os\n",
    "\n",
    "file_path = 'example.txt'\n",
    "\n",
    "if os.path.exists(file_path):\n",
    "    if os.stat(file_path).st_size == 0:\n",
    "        print(\"The file is empty.\")\n",
    "    else:\n",
    "        print(\"The file is not empty.\")\n",
    "else:\n",
    "    print(\"The file does not exist.\")"
   ]
  },
  {
   "cell_type": "code",
   "execution_count": null,
   "metadata": {},
   "outputs": [],
   "source": [
    "3. Reading the First Character\n",
    "\n",
    "This method attempts to read the first character of the file. If nothing is read, the file is empty.\n"
   ]
  },
  {
   "cell_type": "code",
   "execution_count": 8,
   "metadata": {},
   "outputs": [
    {
     "name": "stdout",
     "output_type": "stream",
     "text": [
      "The file does not exist.\n"
     ]
    }
   ],
   "source": [
    "file_path = 'example.txt'\n",
    "\n",
    "try:\n",
    "    with open(file_path, 'r', encoding='utf-8') as file:\n",
    "        first_char = file.read(1)\n",
    "        if not first_char:\n",
    "            print(\"The file is empty.\")\n",
    "        else:\n",
    "            print(\"The file is not empty.\")\n",
    "except FileNotFoundError:\n",
    "    print(\"The file does not exist.\")"
   ]
  },
  {
   "cell_type": "markdown",
   "metadata": {},
   "source": [
    "4. Using pathlib.Path.stat().st_size\n",
    "\n",
    "The pathlib module offers an object-oriented approach to file handling.\n"
   ]
  },
  {
   "cell_type": "code",
   "execution_count": 9,
   "metadata": {},
   "outputs": [
    {
     "name": "stdout",
     "output_type": "stream",
     "text": [
      "The file does not exist.\n"
     ]
    }
   ],
   "source": [
    "from pathlib import Path\n",
    "\n",
    "file_path = Path('example.txt')\n",
    "\n",
    "if file_path.exists():\n",
    "    if file_path.stat().st_size == 0:\n",
    "        print(\"The file is empty.\")\n",
    "    else:\n",
    "        print(\"The file is not empty.\")\n",
    "else:\n",
    "    print(\"The file does not exist.\")"
   ]
  },
  {
   "cell_type": "markdown",
   "metadata": {},
   "source": [
    "23.Write a Python program that writes to a log file when an error occurs during file handling.\n"
   ]
  },
  {
   "cell_type": "code",
   "execution_count": 5,
   "metadata": {},
   "outputs": [
    {
     "name": "stdin",
     "output_type": "stream",
     "text": [
      "Enter the file name:  new.txt\n"
     ]
    },
    {
     "name": "stdout",
     "output_type": "stream",
     "text": [
      "Hello, world!\n",
      "this is my first file.\n",
      "I'm beginner in python. This is a new line of text.\n",
      "\n"
     ]
    }
   ],
   "source": [
    "import logging\n",
    "\n",
    "# Configure logging\n",
    "logging.basicConfig(\n",
    "    filename='error_log.txt',\n",
    "    level=logging.ERROR,\n",
    "    format='%(asctime)s - %(levelname)s - %(message)s'\n",
    ")\n",
    "\n",
    "def read_file(file_path):\n",
    "    try:\n",
    "        with open(file_path, 'r', encoding='utf-8') as file:\n",
    "            content = file.read()\n",
    "            print(content)\n",
    "    except Exception as e:\n",
    "        logging.error(f\"An error occurred while reading the file: {e}\", exc_info=True)\n",
    "\n",
    "# Example usage\n",
    "file_name = input(\"Enter the file name: \")\n",
    "read_file(file_name)"
   ]
  },
  {
   "cell_type": "code",
   "execution_count": null,
   "metadata": {},
   "outputs": [],
   "source": []
  }
 ],
 "metadata": {
  "colab": {
   "provenance": []
  },
  "kernelspec": {
   "display_name": "Python 3 (ipykernel)",
   "language": "python",
   "name": "python3"
  },
  "language_info": {
   "codemirror_mode": {
    "name": "ipython",
    "version": 3
   },
   "file_extension": ".py",
   "mimetype": "text/x-python",
   "name": "python",
   "nbconvert_exporter": "python",
   "pygments_lexer": "ipython3",
   "version": "3.13.2"
  }
 },
 "nbformat": 4,
 "nbformat_minor": 4
}
