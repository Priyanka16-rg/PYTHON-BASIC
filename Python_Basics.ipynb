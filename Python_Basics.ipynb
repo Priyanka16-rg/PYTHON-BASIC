{
  "nbformat": 4,
  "nbformat_minor": 0,
  "metadata": {
    "colab": {
      "provenance": []
    },
    "kernelspec": {
      "name": "python3",
      "display_name": "Python 3"
    },
    "language_info": {
      "name": "python"
    }
  },
  "cells": [
    {
      "cell_type": "markdown",
      "source": [
        "#Python Basics"
      ],
      "metadata": {
        "id": "Uwo3PxxbczTD"
      }
    },
    {
      "cell_type": "markdown",
      "source": [
        "Que 1.Explain the key features of Python that make it a popular choice for programming ?\n",
        "\n",
        "**Ans**- Python is a programming language that is easy to understand and write, making it a popular choice among developers and programmers.\n",
        "\n",
        "**Key fetures of Python-**\n",
        "\n",
        "1. Easy to Learn and Use : Python's syntax is designed to be intuitive and readable, making it a popular choice for beginners.\n",
        "\n",
        "2. Interpreted Language : Python is executed line by line, which makes debugging easier.\n",
        "\n",
        "3. Open Source and Free : Python is freely available and open-source, allowing anyone to use, distribute, and modify the code.\n",
        "\n",
        "4. Object-Oriented Programming : Python supports object-oriented programming, allowing developers to structure code into reusable, modular units.\n",
        "\n",
        "5. High-Level Language: Python allows developers to focus on problem-solving without needing to handle low-level details like memory management.\n",
        "\n",
        "6. Extensive Standard Library: Python comes with a rich collection of built-in modules and libraries that provide a wide range of functionalities.\n",
        "\n",
        "7. Large Community Support: A large and active community provides ample resources, support, and contributions to the Python ecosystem.\n",
        "\n",
        "8. Multipurpose: Python can be used in various fields, including web development, data science, machine learning, and more.\n",
        "\n",
        "\n",
        "\n"
      ],
      "metadata": {
        "id": "W7df5t0mKig-"
      }
    },
    {
      "cell_type": "markdown",
      "source": [
        "Que 2. Describe the role of predefined keywords in Python and provide examples of how they are used in a program ?\n",
        "\n",
        "Ans- Predefined keywords are special reserved words in Python that have a specific meaning and purpose. You cannot use them as variable names, because Python uses them to define the syntax and structure of the language.\n",
        "\n",
        "Examples of keywords :- if, else, while, for, def, class, import, try, except, return, True, False, None, etc.\n",
        "\n",
        "Here are some common examples and their uses :\n",
        "1. Control Flow Keywords:\n",
        "\n",
        "\n",
        "*  **if, else, elif** : These keywords are used for conditional branching, allowing\n",
        "the program to execute different blocks of code based on a condition.\n",
        "\n",
        "\n"
      ],
      "metadata": {
        "id": "qidjcuQTctmU"
      }
    },
    {
      "cell_type": "code",
      "source": [
        "# Example\n",
        "age = 18\n",
        "if age>=18:\n",
        "  print(\"Adult\")\n",
        "else:\n",
        "  print(\"Minor\")"
      ],
      "metadata": {
        "colab": {
          "base_uri": "https://localhost:8080/"
        },
        "id": "qpbg_3rP4R9_",
        "outputId": "484c560a-2184-4f3a-f451-b80713c01bba"
      },
      "execution_count": null,
      "outputs": [
        {
          "output_type": "stream",
          "name": "stdout",
          "text": [
            "Adult\n"
          ]
        }
      ]
    },
    {
      "cell_type": "code",
      "source": [
        "# Check if a number is positive, negative, or zero\n",
        "number = 5\n",
        "if number > 0:\n",
        "  print(\"The number is positive.\")\n",
        "elif number < 0:\n",
        "  print(\"The number is negative.\")\n",
        "else:\n",
        "  print(\"The number is zero.\")"
      ],
      "metadata": {
        "colab": {
          "base_uri": "https://localhost:8080/"
        },
        "id": "6uzMMoYu9dN2",
        "outputId": "017c3792-a3c5-4d71-9612-00a2d5808de7"
      },
      "execution_count": null,
      "outputs": [
        {
          "output_type": "stream",
          "name": "stdout",
          "text": [
            "The number is positive.\n"
          ]
        }
      ]
    },
    {
      "cell_type": "markdown",
      "source": [
        "\n",
        "* **for, while** : These keywords are used to create loops, which repeat a block of code multiple times.\n"
      ],
      "metadata": {
        "id": "W1iszY5E-R7X"
      }
    },
    {
      "cell_type": "code",
      "source": [
        "# Example:\n",
        "\n",
        "for i in range(1,4):\n",
        "    print(i)"
      ],
      "metadata": {
        "colab": {
          "base_uri": "https://localhost:8080/"
        },
        "id": "jvSpDFRS9_gz",
        "outputId": "342af81b-3c8e-4518-e4ec-e0f452267d4c"
      },
      "execution_count": null,
      "outputs": [
        {
          "output_type": "stream",
          "name": "stdout",
          "text": [
            "1\n",
            "2\n",
            "3\n"
          ]
        }
      ]
    },
    {
      "cell_type": "code",
      "source": [
        "n=0\n",
        "while n<=4:\n",
        "  print(n)\n",
        "  n +=1"
      ],
      "metadata": {
        "colab": {
          "base_uri": "https://localhost:8080/"
        },
        "id": "4H7rbOpY_hv6",
        "outputId": "b8322078-4191-4cca-83ac-428ebac06005"
      },
      "execution_count": null,
      "outputs": [
        {
          "output_type": "stream",
          "name": "stdout",
          "text": [
            "0\n",
            "1\n",
            "2\n",
            "3\n",
            "4\n"
          ]
        }
      ]
    },
    {
      "cell_type": "markdown",
      "source": [
        "* **break, continue** : These keywords control the flow of loops, allowing the program to exit a loop prematurely or skip to the next iteration.\n"
      ],
      "metadata": {
        "id": "w6vmVX0dS5O7"
      }
    },
    {
      "cell_type": "code",
      "source": [
        "for i in range(10):\n",
        "            if i == 5:\n",
        "                break  # Exit the loop\n",
        "            print(i)"
      ],
      "metadata": {
        "colab": {
          "base_uri": "https://localhost:8080/"
        },
        "id": "xQlpdi8ATKu6",
        "outputId": "4a9c0de9-8c5a-4a1f-b5d5-ff496cd88d17"
      },
      "execution_count": null,
      "outputs": [
        {
          "output_type": "stream",
          "name": "stdout",
          "text": [
            "0\n",
            "1\n",
            "2\n",
            "3\n",
            "4\n"
          ]
        }
      ]
    },
    {
      "cell_type": "markdown",
      "source": [
        "2. Function and Class Definition Keywords :\n",
        "*  **def** : This keyword is used to define a function.\n"
      ],
      "metadata": {
        "id": "Whm633JxBiSG"
      }
    },
    {
      "cell_type": "code",
      "source": [
        "#Example\n",
        "def greet(name):\n",
        "  print(\"Hello, \" + name + \"!\")\n",
        "\n",
        "greet(\"Prince\")"
      ],
      "metadata": {
        "colab": {
          "base_uri": "https://localhost:8080/"
        },
        "id": "bMsFXAD6BtWl",
        "outputId": "5964fd9e-d881-4433-b848-63017ba19899"
      },
      "execution_count": null,
      "outputs": [
        {
          "output_type": "stream",
          "name": "stdout",
          "text": [
            "Hello, Prince!\n"
          ]
        }
      ]
    },
    {
      "cell_type": "markdown",
      "source": [
        "3.Other Keywords:\n",
        "\n",
        "* **True, False, None**: These keywords represent boolean values and the absence of a value, respectively.\n",
        "\n",
        "* **in**: This keyword is used in the context of membership testing (checking if an element is in a sequence or container)."
      ],
      "metadata": {
        "id": "bhQa3xbNRKGY"
      }
    },
    {
      "cell_type": "markdown",
      "source": [
        "Que 3.Compare and contrast mutable and immutable objects in Python with examples?\n",
        "\n",
        "Ans - **Mutable Objects :**\n",
        "* **Definition** : Objects that can be Changed after they've been created.\n",
        "* **Memory** : Generally more efficient in memory as they don't require  \n",
        "  creating new\n",
        "  objects for changes.\n",
        "* **Modification :** Modifying a mutable object doesn't change its memory\n",
        "  address; the changes are made in place.\n",
        "* **Examples :** Lists, dictionaries, and sets.\n"
      ],
      "metadata": {
        "id": "Ej4ws4CqbDxX"
      }
    },
    {
      "cell_type": "code",
      "source": [
        "# Example\n",
        "my_list = [1, 2, 3] # firstly create a list."
      ],
      "metadata": {
        "id": "epiO6l0hfZDl"
      },
      "execution_count": null,
      "outputs": []
    },
    {
      "cell_type": "code",
      "source": [
        "print(my_list)"
      ],
      "metadata": {
        "colab": {
          "base_uri": "https://localhost:8080/"
        },
        "id": "6UAa0BlFfbht",
        "outputId": "ac72552a-a1c9-46b7-c3ed-f304c7492eff"
      },
      "execution_count": null,
      "outputs": [
        {
          "output_type": "stream",
          "name": "stdout",
          "text": [
            "[1, 2, 3]\n"
          ]
        }
      ]
    },
    {
      "cell_type": "code",
      "source": [
        "my_list[1]=5"
      ],
      "metadata": {
        "id": "TQXxmmX0gNAa"
      },
      "execution_count": null,
      "outputs": []
    },
    {
      "cell_type": "code",
      "source": [
        "print(my_list) #5 is changed inplace of 2"
      ],
      "metadata": {
        "colab": {
          "base_uri": "https://localhost:8080/"
        },
        "id": "qQHchim1gmKw",
        "outputId": "616b07a2-c132-4b71-fc8c-9dce5859de14"
      },
      "execution_count": null,
      "outputs": [
        {
          "output_type": "stream",
          "name": "stdout",
          "text": [
            "[1, 5, 3]\n"
          ]
        }
      ]
    },
    {
      "cell_type": "markdown",
      "source": [
        "**Immutable Objects :**\n",
        "* **Definition :** Objects whose value cannot be changed once they are created.\n",
        "* **Memory :** May use more memory as new objects are created when  \n",
        "  modifications are\n",
        "  needed.\n",
        "* **Modification :** Modifying an immutable object creates a new object with  \n",
        "  the modified value, and any references to the original object remain unchanged.\n",
        "*Examples : **bold text** Integers, floats, strings, tuples, and frozensets.  \n",
        "\n"
      ],
      "metadata": {
        "id": "o_keSWzYhUtp"
      }
    },
    {
      "cell_type": "code",
      "source": [
        "#example\n",
        "my_tuple = (1, 2, \"hello\", True) #firstly create a tuple.\n",
        "print(my_tuple)"
      ],
      "metadata": {
        "colab": {
          "base_uri": "https://localhost:8080/"
        },
        "id": "VFCTSo0-jokD",
        "outputId": "f8a69344-1226-404c-bbb6-9e6c0350df71"
      },
      "execution_count": null,
      "outputs": [
        {
          "output_type": "stream",
          "name": "stdout",
          "text": [
            "(1, 2, 'hello', True)\n"
          ]
        }
      ]
    },
    {
      "cell_type": "code",
      "source": [
        "my_tuple[0]=3 # it showing error because tuples are immutable and can not change the element."
      ],
      "metadata": {
        "colab": {
          "base_uri": "https://localhost:8080/",
          "height": 141
        },
        "id": "_eUOXsBqkNOf",
        "outputId": "b8d219a9-7908-4b2b-e1c7-aa2a7e6b490f"
      },
      "execution_count": null,
      "outputs": [
        {
          "output_type": "error",
          "ename": "TypeError",
          "evalue": "'tuple' object does not support item assignment",
          "traceback": [
            "\u001b[0;31m---------------------------------------------------------------------------\u001b[0m",
            "\u001b[0;31mTypeError\u001b[0m                                 Traceback (most recent call last)",
            "\u001b[0;32m<ipython-input-38-0180159079f8>\u001b[0m in \u001b[0;36m<cell line: 0>\u001b[0;34m()\u001b[0m\n\u001b[0;32m----> 1\u001b[0;31m \u001b[0mmy_tuple\u001b[0m\u001b[0;34m[\u001b[0m\u001b[0;36m0\u001b[0m\u001b[0;34m]\u001b[0m\u001b[0;34m=\u001b[0m\u001b[0;36m3\u001b[0m\u001b[0;34m\u001b[0m\u001b[0;34m\u001b[0m\u001b[0m\n\u001b[0m",
            "\u001b[0;31mTypeError\u001b[0m: 'tuple' object does not support item assignment"
          ]
        }
      ]
    },
    {
      "cell_type": "markdown",
      "source": [
        "Que 4. Discuss the different types of operators in Python and provide examples of how they are used ?\n",
        "\n",
        "Ans - 1. **Arithmetic Operators:** These operators perform basic mathematical\n",
        "         calculations.\n",
        "\n",
        "*   Addition(+) :- 6 + 2=8\n",
        "*   Subtraction(-) :- 6 - 2=4\n",
        "*   Multiplication(*) :-6 * 2 = 12\n",
        "*   Division(/) :- 6 / 2 = 3\n",
        "*   Floor Division(//) :- returns the integer part of the division.(6//2=3)\n",
        "*   Modulus(%) :- returns the remainder of the division(6 % 2 = 0)\n",
        "*   Exponentiation(**) :- raises the first number to the power of the second.  (6 ** 2 = 36)"
      ],
      "metadata": {
        "id": "YzhiqYpFBPj0"
      }
    },
    {
      "cell_type": "code",
      "source": [
        "a = 6\n",
        "b = 2\n",
        "# Addition\n",
        "print (\"a + b : \", a + b)\n",
        "# Subtraction\n",
        "print (\"a - b : \", a - b)\n",
        "# Multiplication\n",
        "print (\"a * b : \", a * b)\n",
        "# Division\n",
        "print (\"a / b : \", a / b)\n",
        "# Modulus\n",
        "print (\"a % b : \", a % b)\n",
        "# Exponent\n",
        "print (\"a ** b : \", a ** b)\n",
        "# Floor Division\n",
        "print (\"a // b : \", a // b)"
      ],
      "metadata": {
        "colab": {
          "base_uri": "https://localhost:8080/"
        },
        "id": "bw-EB-QYKKWz",
        "outputId": "87f43a63-22a0-45e8-af82-dcc03c5f96f7"
      },
      "execution_count": null,
      "outputs": [
        {
          "output_type": "stream",
          "name": "stdout",
          "text": [
            "a + b :  8\n",
            "a - b :  4\n",
            "a * b :  12\n",
            "a / b :  3.0\n",
            "a % b :  0\n",
            "a ** b :  36\n",
            "a // b :  3\n"
          ]
        }
      ]
    },
    {
      "cell_type": "markdown",
      "source": [
        "2. **Comparison Operators:** These operators compare values and return a  \n",
        "  boolean value (True or False).\n",
        "\n",
        "\n",
        "*   Equal to(==) :- 4==5,return false\n",
        "*   Not equal to(!=) :- 4!=5,return true\n",
        "*   Greater than(>) :- 4> 5,returns false\n",
        "*   Less than(<) :-4 < 5 ,returns True\n",
        "*   Greater than or equal to(>=) :- 4 >= 5,returns false\n",
        "*   less than equal to(<=) :- 4 <= ,return true\n",
        "    \n",
        "\n",
        "\n"
      ],
      "metadata": {
        "id": "Txv-sIEgLVcU"
      }
    },
    {
      "cell_type": "code",
      "source": [
        "a = 4\n",
        "b = 5\n",
        "# Equal\n",
        "print (\"a == b : \", a == b)\n",
        "# Not Equal\n",
        "print (\"a != b : \", a != b)\n",
        "# Greater Than\n",
        "print (\"a > b : \", a > b)\n",
        "# Less Than\n",
        "print (\"a < b : \", a < b)\n",
        "# Greater Than or Equal to\n",
        "print (\"a >= b : \", a >= b)\n",
        "# Less Than or Equal to\n",
        "print (\"a <= b : \", a <= b)"
      ],
      "metadata": {
        "colab": {
          "base_uri": "https://localhost:8080/"
        },
        "id": "qK454NYGKnlS",
        "outputId": "a54fa3fe-25ce-48c3-f1cd-4ae1bd7d4355"
      },
      "execution_count": null,
      "outputs": [
        {
          "output_type": "stream",
          "name": "stdout",
          "text": [
            "a == b :  False\n",
            "a != b :  True\n",
            "a > b :  False\n",
            "a < b :  True\n",
            "a >= b :  False\n",
            "a <= b :  True\n"
          ]
        }
      ]
    },
    {
      "cell_type": "markdown",
      "source": [
        "**3. Assignment Operators :** These operators assign values to variables.\n",
        "\n",
        "\n",
        "*   =: Assigns the value on the right to the variable on the left (e.g., x = 5)\n",
        "*   +=: Adds the value on the right to the variable on the left and assigns the\n",
        "  result (e.g., x += 3 is equivalent to x = x + 3)\n",
        "* -=: Subtracts the value on the right from the variable on the left and  \n",
        "  assigns the result (e.g., x -= 2 is equivalent to x = x - 2)  \n",
        "* *= : Multiplies the variable on the left by the value on the right and  \n",
        "  assigns the result.\n",
        "* /= : Divides the variable on the left by the value on the right and assigns\n",
        "  the result.  \n",
        "* %= : Calculates the modulus of the variable on the left with the value on the\n",
        "  right and assigns the result.\n",
        "* **= : Raises the variable on the left to the power of the value on the right\n",
        "  and assigns the result.\n",
        "* //= : Performs floor division on the variable on the left with the value on\n",
        "  the right and assigns the result.\n"
      ],
      "metadata": {
        "id": "h9suWvBNTUyH"
      }
    },
    {
      "cell_type": "code",
      "source": [
        "# Assignment Operator\n",
        "a = 10\n",
        "# Addition Assignment\n",
        "a += 5\n",
        "print (\"a += 5 : \", a)\n",
        "# Subtraction Assignment\n",
        "a -= 5\n",
        "print (\"a -= 5 : \", a)\n",
        "# Multiplication Assignment\n",
        "a *= 5\n",
        "print (\"a *= 5 : \", a)\n",
        "# Division Assignment\n",
        "a /= 5\n",
        "print (\"a /= 5 : \",a)\n",
        "# Remainder Assignment\n",
        "a %= 3\n",
        "print (\"a %= 3 : \", a)\n",
        "# Exponent Assignment\n",
        "a **= 2\n",
        "print (\"a **= 2 : \", a)\n",
        "# Floor Division Assignment\n",
        "a //= 3\n",
        "print (\"a //= 3 : \", a)"
      ],
      "metadata": {
        "colab": {
          "base_uri": "https://localhost:8080/"
        },
        "id": "aEurk_zVfy7H",
        "outputId": "406e321e-2ca6-42bd-bc15-4d0ddc317187"
      },
      "execution_count": null,
      "outputs": [
        {
          "output_type": "stream",
          "name": "stdout",
          "text": [
            "a += 5 :  15\n",
            "a -= 5 :  10\n",
            "a *= 5 :  50\n",
            "a /= 5 :  10.0\n",
            "a %= 3 :  1.0\n",
            "a **= 2 :  1.0\n",
            "a //= 3 :  0.0\n"
          ]
        }
      ]
    },
    {
      "cell_type": "markdown",
      "source": [
        "**4. Logical Operators:** These operators combine or modify boolean  \n",
        "   expressions.\n",
        "\n",
        "\n",
        "*   and: Returns True if both operands are True (e.g., True and True returns\n",
        "    True)\n",
        "*   or: Returns True if at least one operand is True (e.g., True or False\n",
        "    returns True)\n",
        "*   not: Inverts the boolean value (e.g., not True returns False)"
      ],
      "metadata": {
        "id": "9zh86gZOZGpz"
      }
    },
    {
      "cell_type": "code",
      "source": [
        "x = 5\n",
        "y = 10\n",
        "z = 15"
      ],
      "metadata": {
        "id": "ipGdbsLSenYh"
      },
      "execution_count": null,
      "outputs": []
    },
    {
      "cell_type": "code",
      "source": [
        "x < y and y < z #true and true - true\n"
      ],
      "metadata": {
        "colab": {
          "base_uri": "https://localhost:8080/"
        },
        "id": "Wa0J8Q6Mh_va",
        "outputId": "0b4e71fc-fbde-42dd-bbba-e7212b8e0bda"
      },
      "execution_count": null,
      "outputs": [
        {
          "output_type": "execute_result",
          "data": {
            "text/plain": [
              "True"
            ]
          },
          "metadata": {},
          "execution_count": 5
        }
      ]
    },
    {
      "cell_type": "code",
      "source": [
        "x < y or x > z #true or false - true"
      ],
      "metadata": {
        "colab": {
          "base_uri": "https://localhost:8080/"
        },
        "id": "bqVDetQ_idBU",
        "outputId": "42458308-4679-441c-9b10-dde311ace8dd"
      },
      "execution_count": null,
      "outputs": [
        {
          "output_type": "execute_result",
          "data": {
            "text/plain": [
              "True"
            ]
          },
          "metadata": {},
          "execution_count": 6
        }
      ]
    },
    {
      "cell_type": "code",
      "source": [
        "not(x < y) #not(true) - false"
      ],
      "metadata": {
        "colab": {
          "base_uri": "https://localhost:8080/"
        },
        "id": "7qOpVQ-MiczB",
        "outputId": "7ca86535-38df-47ea-d60e-7aec29f88e43"
      },
      "execution_count": null,
      "outputs": [
        {
          "output_type": "execute_result",
          "data": {
            "text/plain": [
              "False"
            ]
          },
          "metadata": {},
          "execution_count": 7
        }
      ]
    },
    {
      "cell_type": "code",
      "source": [
        "not(x > y) #not(false) - true"
      ],
      "metadata": {
        "colab": {
          "base_uri": "https://localhost:8080/"
        },
        "id": "q8uRKygoij3B",
        "outputId": "b40310b0-2101-4c63-8a2c-951482e673ef"
      },
      "execution_count": null,
      "outputs": [
        {
          "output_type": "execute_result",
          "data": {
            "text/plain": [
              "True"
            ]
          },
          "metadata": {},
          "execution_count": 8
        }
      ]
    },
    {
      "cell_type": "markdown",
      "source": [
        "**5. Identity Operators :** These operators check if two objects are the same\n",
        "  object in memory.\n",
        "\n",
        "\n",
        "*   is: Returns True if the two operands refer to the same object (e.g., x is y if x and y point to the same memory location).\n",
        "\n",
        "*   is not: Returns True if the two operands do not refer to the same object.\n",
        "\n"
      ],
      "metadata": {
        "id": "i9ulSiZQen7H"
      }
    },
    {
      "cell_type": "code",
      "source": [
        "x=10\n",
        "y=10\n",
        "x is y"
      ],
      "metadata": {
        "colab": {
          "base_uri": "https://localhost:8080/"
        },
        "id": "YmQzrFlBjFmm",
        "outputId": "31863cde-c270-4a85-f0a4-029e0f26042e"
      },
      "execution_count": null,
      "outputs": [
        {
          "output_type": "execute_result",
          "data": {
            "text/plain": [
              "True"
            ]
          },
          "metadata": {},
          "execution_count": 18
        }
      ]
    },
    {
      "cell_type": "code",
      "source": [
        "x=4\n",
        "y=4\n",
        "x is not y"
      ],
      "metadata": {
        "colab": {
          "base_uri": "https://localhost:8080/"
        },
        "id": "VKXZZ44Wj4m3",
        "outputId": "07c48196-6a3e-4a7b-f1f3-55bfc89c2e41"
      },
      "execution_count": null,
      "outputs": [
        {
          "output_type": "execute_result",
          "data": {
            "text/plain": [
              "False"
            ]
          },
          "metadata": {},
          "execution_count": 19
        }
      ]
    },
    {
      "cell_type": "markdown",
      "source": [
        "6. **Membership Operators :** These operators test if a value is a member of a sequence (like a list, tuple, string, etc.).\n",
        "\n",
        "\n",
        "*   in: Returns True if the value is found in the sequence (e.g., 5 in [1, 2, 5] returns True)\n",
        "*   not in: Returns True if the value is not found in the sequence (e.g., 7 not in [1, 2, 5] returns True)\n",
        "\n"
      ],
      "metadata": {
        "id": "4QwsZU6IfSaE"
      }
    },
    {
      "cell_type": "code",
      "source": [
        "fruits = [\"apple\", \"banana\", \"cherry\"]\n",
        "\n",
        "\"banana\" in fruits"
      ],
      "metadata": {
        "colab": {
          "base_uri": "https://localhost:8080/"
        },
        "id": "1meH-votfs7q",
        "outputId": "1ce04ea8-c48e-4553-b890-adecd1ceaca1"
      },
      "execution_count": null,
      "outputs": [
        {
          "output_type": "execute_result",
          "data": {
            "text/plain": [
              "True"
            ]
          },
          "metadata": {},
          "execution_count": 16
        }
      ]
    },
    {
      "cell_type": "code",
      "source": [
        "fruits = [\"apple\", \"banana\", \"cherry\"]\n",
        "\n",
        "\"apple\" not in fruits"
      ],
      "metadata": {
        "colab": {
          "base_uri": "https://localhost:8080/"
        },
        "id": "aC-AjCZUkGsf",
        "outputId": "956ec803-7051-4181-fd4d-8c797a477727"
      },
      "execution_count": null,
      "outputs": [
        {
          "output_type": "execute_result",
          "data": {
            "text/plain": [
              "False"
            ]
          },
          "metadata": {},
          "execution_count": 17
        }
      ]
    },
    {
      "cell_type": "markdown",
      "source": [
        "Que 5. Explain the concept of type casting in Python with examples ?\n",
        "\n",
        "Ans- Type Casting, also known as type conversion, is the process of converting  \n",
        "a value from one data type to another. It's often necessary when you need to perform operations that require specific data types, like adding an integer and a float, or when working with user input that is initially a string.\n",
        "\n",
        "1. Explicit Type Casting: Done manually by the programmer.\n"
      ],
      "metadata": {
        "id": "7AVQysEBljbz"
      }
    },
    {
      "cell_type": "code",
      "source": [
        "#Converting a string to an integer.\n",
        "a = \"2\"\n",
        "print(type(a))"
      ],
      "metadata": {
        "colab": {
          "base_uri": "https://localhost:8080/"
        },
        "id": "S1Ge0mZAkNFV",
        "outputId": "713df59c-6193-4138-8e50-2b08bb2a895f"
      },
      "execution_count": null,
      "outputs": [
        {
          "output_type": "stream",
          "name": "stdout",
          "text": [
            "<class 'str'>\n"
          ]
        }
      ]
    },
    {
      "cell_type": "code",
      "source": [
        "int(a)"
      ],
      "metadata": {
        "colab": {
          "base_uri": "https://localhost:8080/"
        },
        "id": "AgtRqyllurYq",
        "outputId": "a6dba7d0-5272-4d68-98b0-0aea1704a114"
      },
      "execution_count": null,
      "outputs": [
        {
          "output_type": "execute_result",
          "data": {
            "text/plain": [
              "2"
            ]
          },
          "metadata": {},
          "execution_count": 26
        }
      ]
    },
    {
      "cell_type": "code",
      "source": [
        "#Converting a integer to float.\n",
        "a = 2\n",
        "type(a)"
      ],
      "metadata": {
        "colab": {
          "base_uri": "https://localhost:8080/"
        },
        "id": "29p3osTLvI13",
        "outputId": "d962e80f-d28c-432c-e1d3-482a43e255e6"
      },
      "execution_count": null,
      "outputs": [
        {
          "output_type": "execute_result",
          "data": {
            "text/plain": [
              "int"
            ]
          },
          "metadata": {},
          "execution_count": 27
        }
      ]
    },
    {
      "cell_type": "code",
      "source": [
        "b = float(a)\n",
        "b"
      ],
      "metadata": {
        "colab": {
          "base_uri": "https://localhost:8080/"
        },
        "id": "Lu_-tKVTv44l",
        "outputId": "5df1e02c-bf43-4008-c28c-208dd800b9c1"
      },
      "execution_count": null,
      "outputs": [
        {
          "output_type": "execute_result",
          "data": {
            "text/plain": [
              "2.0"
            ]
          },
          "metadata": {},
          "execution_count": 28
        }
      ]
    },
    {
      "cell_type": "code",
      "source": [
        "type(b)"
      ],
      "metadata": {
        "colab": {
          "base_uri": "https://localhost:8080/"
        },
        "id": "_P-HgTzvv-Eb",
        "outputId": "e05c172d-a5ff-4451-ec14-58ba4c6cc02f"
      },
      "execution_count": null,
      "outputs": [
        {
          "output_type": "execute_result",
          "data": {
            "text/plain": [
              "float"
            ]
          },
          "metadata": {},
          "execution_count": 29
        }
      ]
    },
    {
      "cell_type": "code",
      "source": [
        "#string to float\n",
        "a = \"2.3\"\n",
        "type(a)"
      ],
      "metadata": {
        "colab": {
          "base_uri": "https://localhost:8080/"
        },
        "id": "qMmFU-cqwLAT",
        "outputId": "9662bdda-e0ba-4100-e1f3-2ae3e3a15c48"
      },
      "execution_count": null,
      "outputs": [
        {
          "output_type": "execute_result",
          "data": {
            "text/plain": [
              "str"
            ]
          },
          "metadata": {},
          "execution_count": 30
        }
      ]
    },
    {
      "cell_type": "code",
      "source": [
        "b = float (a)\n",
        "b\n"
      ],
      "metadata": {
        "colab": {
          "base_uri": "https://localhost:8080/"
        },
        "id": "S69WeYrhw4gy",
        "outputId": "8a47aba9-94dd-4100-d7b1-2bc606d16b4f"
      },
      "execution_count": null,
      "outputs": [
        {
          "output_type": "execute_result",
          "data": {
            "text/plain": [
              "2.3"
            ]
          },
          "metadata": {},
          "execution_count": 33
        }
      ]
    },
    {
      "cell_type": "code",
      "source": [
        "type(b)"
      ],
      "metadata": {
        "colab": {
          "base_uri": "https://localhost:8080/"
        },
        "id": "vQJNKwk8xM2N",
        "outputId": "83b308f7-52a4-41ee-efe4-09e671f5a51a"
      },
      "execution_count": null,
      "outputs": [
        {
          "output_type": "execute_result",
          "data": {
            "text/plain": [
              "float"
            ]
          },
          "metadata": {},
          "execution_count": 34
        }
      ]
    },
    {
      "cell_type": "markdown",
      "source": [
        "**Implicit Type Casting :** done automatically by Python"
      ],
      "metadata": {
        "id": "atvyMaT6xoHp"
      }
    },
    {
      "cell_type": "code",
      "source": [
        "a=5\n",
        "b=3.5\n",
        "c=a+b\n",
        "print(c)"
      ],
      "metadata": {
        "id": "z-v6IBdbxgzR",
        "colab": {
          "base_uri": "https://localhost:8080/"
        },
        "outputId": "2a1f57a5-8789-498e-8aa2-ecadd3827b2e"
      },
      "execution_count": null,
      "outputs": [
        {
          "output_type": "stream",
          "name": "stdout",
          "text": [
            "8.5\n"
          ]
        }
      ]
    },
    {
      "cell_type": "code",
      "source": [
        "type(c)"
      ],
      "metadata": {
        "id": "cEeQCnF-y3qU",
        "colab": {
          "base_uri": "https://localhost:8080/"
        },
        "outputId": "43a866c1-a792-4350-c882-018dee0505d7"
      },
      "execution_count": null,
      "outputs": [
        {
          "output_type": "execute_result",
          "data": {
            "text/plain": [
              "float"
            ]
          },
          "metadata": {},
          "execution_count": 3
        }
      ]
    },
    {
      "cell_type": "markdown",
      "source": [
        "Que 6. How do conditional statements work in Python? Illustrate with examples ?\n",
        "\n",
        "Ans -Conditional statements in Python, like if, elif, and else, allow programs to execute different blocks of code based on whether a condition is true or false.\n",
        "\n",
        "1.if Statement : The if statement checks a condition, and if it's true, the code inside its block is executed."
      ],
      "metadata": {
        "id": "NbfcaXNsHSNt"
      }
    },
    {
      "cell_type": "code",
      "source": [
        "#Example\n",
        "age = 20\n",
        "if age >= 18:\n",
        "    print(\"You are eligible to vote.\")"
      ],
      "metadata": {
        "colab": {
          "base_uri": "https://localhost:8080/"
        },
        "id": "uYmwvOApGbXm",
        "outputId": "1a163ab1-b47f-4a74-dbaf-55e301d890b8"
      },
      "execution_count": null,
      "outputs": [
        {
          "output_type": "stream",
          "name": "stdout",
          "text": [
            "You are eligible to vote.\n"
          ]
        }
      ]
    },
    {
      "cell_type": "markdown",
      "source": [
        "**2. elif statement : **The elif (short for \"else if\") allows you to check multiple conditions sequentially.**bold text**"
      ],
      "metadata": {
        "id": "fAKKgbOJInbd"
      }
    },
    {
      "cell_type": "code",
      "source": [
        "score = 85\n",
        "if score >= 90:\n",
        "    print(\"Grade A\")\n",
        "elif score >= 80:\n",
        "    print(\"Grade B\")\n",
        "elif score >= 70:\n",
        "    print(\"Grade C\")\n",
        "else:\n",
        "    print(\"Grade D\")"
      ],
      "metadata": {
        "colab": {
          "base_uri": "https://localhost:8080/"
        },
        "id": "Z9LhVpgtJLTH",
        "outputId": "fc76a2bf-d4e9-4972-bf52-0273302014a7"
      },
      "execution_count": null,
      "outputs": [
        {
          "output_type": "stream",
          "name": "stdout",
          "text": [
            "Grade B\n"
          ]
        }
      ]
    },
    {
      "cell_type": "markdown",
      "source": [
        "3. **else Statement :** The else statement provides a default block of code to run if none of the previous conditions are true."
      ],
      "metadata": {
        "id": "SRjVv5DLJOJw"
      }
    },
    {
      "cell_type": "code",
      "source": [
        "temperature = 25\n",
        "if temperature > 30:\n",
        "    print(\"It's hot outside.\")\n",
        "else:\n",
        "    print(\"It's cool.\")"
      ],
      "metadata": {
        "colab": {
          "base_uri": "https://localhost:8080/"
        },
        "id": "Dnw0DyzYIV6_",
        "outputId": "2d661e2d-b3dd-4351-8844-6e29ec715aaf"
      },
      "execution_count": null,
      "outputs": [
        {
          "output_type": "stream",
          "name": "stdout",
          "text": [
            "It's cool.\n"
          ]
        }
      ]
    },
    {
      "cell_type": "markdown",
      "source": [
        "Que 7.Describe the different types of loops in Python and their use cases with examples?\n",
        "\n",
        "Ans- 1. **For Loop :**\n",
        "Use Case: Ideal when you know how many times you want to execute the loop or when iterating through a sequence."
      ],
      "metadata": {
        "id": "TCRKbrZrKR2O"
      }
    },
    {
      "cell_type": "code",
      "source": [
        "# Example\n",
        "names = [\"Ram\",\"Shyan\",\"Hari\"]\n",
        "for name in names:\n",
        "  print(name)"
      ],
      "metadata": {
        "colab": {
          "base_uri": "https://localhost:8080/"
        },
        "id": "tvgcf-2KQqzp",
        "outputId": "d0dc44f9-6278-4f09-9de6-fdfb8bdae2ad"
      },
      "execution_count": null,
      "outputs": [
        {
          "output_type": "stream",
          "name": "stdout",
          "text": [
            "Ram\n",
            "Shyan\n",
            "Hari\n"
          ]
        }
      ]
    },
    {
      "cell_type": "markdown",
      "source": [
        "2. While Loop:\n",
        "Use Case: Useful when you need to repeat a block of code until a specific condition is met, but you don't know in advance how many iterations will be required.\n"
      ],
      "metadata": {
        "id": "axCdZPpvSK3z"
      }
    },
    {
      "cell_type": "code",
      "source": [
        "count = 1\n",
        "while count <= 5:\n",
        "  print(count)\n",
        "  count +=2"
      ],
      "metadata": {
        "colab": {
          "base_uri": "https://localhost:8080/"
        },
        "id": "20ncUk-cRzml",
        "outputId": "1150e1f6-6876-476d-ac7e-685a783ea340"
      },
      "execution_count": null,
      "outputs": [
        {
          "output_type": "stream",
          "name": "stdout",
          "text": [
            "1\n",
            "3\n",
            "5\n"
          ]
        }
      ]
    },
    {
      "cell_type": "markdown",
      "source": [
        "3. Nested Loops:\n",
        "Use Case: A loop within another loop, useful for tasks involving multi-dimensional data or patterns.\n"
      ],
      "metadata": {
        "id": "2ygVbbZ9YJS5"
      }
    },
    {
      "cell_type": "code",
      "source": [
        "for i in range(3):\n",
        "        for j in range(2):\n",
        "            print(f\"i: {i}, j: {j}\")"
      ],
      "metadata": {
        "colab": {
          "base_uri": "https://localhost:8080/"
        },
        "id": "9PRa-D70XKpC",
        "outputId": "f2e7e0e8-c9a4-42ae-d523-58cc7b5a0029"
      },
      "execution_count": null,
      "outputs": [
        {
          "output_type": "stream",
          "name": "stdout",
          "text": [
            "i: 0, j: 0\n",
            "i: 0, j: 1\n",
            "i: 1, j: 0\n",
            "i: 1, j: 1\n",
            "i: 2, j: 0\n",
            "i: 2, j: 1\n"
          ]
        }
      ]
    },
    {
      "cell_type": "code",
      "source": [],
      "metadata": {
        "id": "2Nsy36ZzZaLy"
      },
      "execution_count": null,
      "outputs": []
    }
  ]
}